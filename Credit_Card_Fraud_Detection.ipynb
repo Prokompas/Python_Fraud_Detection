{
 "cells": [
  {
   "cell_type": "markdown",
   "id": "4a75c15e",
   "metadata": {},
   "source": [
    "## Credit Card Fraud Detection Predictive Model"
   ]
  },
  {
   "cell_type": "code",
   "execution_count": 1,
   "id": "9cc3b423",
   "metadata": {},
   "outputs": [],
   "source": [
    "import numpy as np\n",
    "import pandas as pd\n",
    "import matplotlib.pyplot as plt\n",
    "import seaborn as sns\n",
    "%matplotlib inline\n",
    "sns.set()"
   ]
  },
  {
   "cell_type": "code",
   "execution_count": 2,
   "id": "bfb1c07c",
   "metadata": {},
   "outputs": [
    {
     "data": {
      "text/html": [
       "<div>\n",
       "<style scoped>\n",
       "    .dataframe tbody tr th:only-of-type {\n",
       "        vertical-align: middle;\n",
       "    }\n",
       "\n",
       "    .dataframe tbody tr th {\n",
       "        vertical-align: top;\n",
       "    }\n",
       "\n",
       "    .dataframe thead th {\n",
       "        text-align: right;\n",
       "    }\n",
       "</style>\n",
       "<table border=\"1\" class=\"dataframe\">\n",
       "  <thead>\n",
       "    <tr style=\"text-align: right;\">\n",
       "      <th></th>\n",
       "      <th>Time</th>\n",
       "      <th>V1</th>\n",
       "      <th>V2</th>\n",
       "      <th>V3</th>\n",
       "      <th>V4</th>\n",
       "      <th>V5</th>\n",
       "      <th>V6</th>\n",
       "      <th>V7</th>\n",
       "      <th>V8</th>\n",
       "      <th>V9</th>\n",
       "      <th>...</th>\n",
       "      <th>V21</th>\n",
       "      <th>V22</th>\n",
       "      <th>V23</th>\n",
       "      <th>V24</th>\n",
       "      <th>V25</th>\n",
       "      <th>V26</th>\n",
       "      <th>V27</th>\n",
       "      <th>V28</th>\n",
       "      <th>Amount</th>\n",
       "      <th>Class</th>\n",
       "    </tr>\n",
       "  </thead>\n",
       "  <tbody>\n",
       "    <tr>\n",
       "      <th>0</th>\n",
       "      <td>0.0</td>\n",
       "      <td>-1.359807</td>\n",
       "      <td>-0.072781</td>\n",
       "      <td>2.536347</td>\n",
       "      <td>1.378155</td>\n",
       "      <td>-0.338321</td>\n",
       "      <td>0.462388</td>\n",
       "      <td>0.239599</td>\n",
       "      <td>0.098698</td>\n",
       "      <td>0.363787</td>\n",
       "      <td>...</td>\n",
       "      <td>-0.018307</td>\n",
       "      <td>0.277838</td>\n",
       "      <td>-0.110474</td>\n",
       "      <td>0.066928</td>\n",
       "      <td>0.128539</td>\n",
       "      <td>-0.189115</td>\n",
       "      <td>0.133558</td>\n",
       "      <td>-0.021053</td>\n",
       "      <td>149.62</td>\n",
       "      <td>0</td>\n",
       "    </tr>\n",
       "    <tr>\n",
       "      <th>1</th>\n",
       "      <td>0.0</td>\n",
       "      <td>1.191857</td>\n",
       "      <td>0.266151</td>\n",
       "      <td>0.166480</td>\n",
       "      <td>0.448154</td>\n",
       "      <td>0.060018</td>\n",
       "      <td>-0.082361</td>\n",
       "      <td>-0.078803</td>\n",
       "      <td>0.085102</td>\n",
       "      <td>-0.255425</td>\n",
       "      <td>...</td>\n",
       "      <td>-0.225775</td>\n",
       "      <td>-0.638672</td>\n",
       "      <td>0.101288</td>\n",
       "      <td>-0.339846</td>\n",
       "      <td>0.167170</td>\n",
       "      <td>0.125895</td>\n",
       "      <td>-0.008983</td>\n",
       "      <td>0.014724</td>\n",
       "      <td>2.69</td>\n",
       "      <td>0</td>\n",
       "    </tr>\n",
       "    <tr>\n",
       "      <th>2</th>\n",
       "      <td>1.0</td>\n",
       "      <td>-1.358354</td>\n",
       "      <td>-1.340163</td>\n",
       "      <td>1.773209</td>\n",
       "      <td>0.379780</td>\n",
       "      <td>-0.503198</td>\n",
       "      <td>1.800499</td>\n",
       "      <td>0.791461</td>\n",
       "      <td>0.247676</td>\n",
       "      <td>-1.514654</td>\n",
       "      <td>...</td>\n",
       "      <td>0.247998</td>\n",
       "      <td>0.771679</td>\n",
       "      <td>0.909412</td>\n",
       "      <td>-0.689281</td>\n",
       "      <td>-0.327642</td>\n",
       "      <td>-0.139097</td>\n",
       "      <td>-0.055353</td>\n",
       "      <td>-0.059752</td>\n",
       "      <td>378.66</td>\n",
       "      <td>0</td>\n",
       "    </tr>\n",
       "    <tr>\n",
       "      <th>3</th>\n",
       "      <td>1.0</td>\n",
       "      <td>-0.966272</td>\n",
       "      <td>-0.185226</td>\n",
       "      <td>1.792993</td>\n",
       "      <td>-0.863291</td>\n",
       "      <td>-0.010309</td>\n",
       "      <td>1.247203</td>\n",
       "      <td>0.237609</td>\n",
       "      <td>0.377436</td>\n",
       "      <td>-1.387024</td>\n",
       "      <td>...</td>\n",
       "      <td>-0.108300</td>\n",
       "      <td>0.005274</td>\n",
       "      <td>-0.190321</td>\n",
       "      <td>-1.175575</td>\n",
       "      <td>0.647376</td>\n",
       "      <td>-0.221929</td>\n",
       "      <td>0.062723</td>\n",
       "      <td>0.061458</td>\n",
       "      <td>123.50</td>\n",
       "      <td>0</td>\n",
       "    </tr>\n",
       "    <tr>\n",
       "      <th>4</th>\n",
       "      <td>2.0</td>\n",
       "      <td>-1.158233</td>\n",
       "      <td>0.877737</td>\n",
       "      <td>1.548718</td>\n",
       "      <td>0.403034</td>\n",
       "      <td>-0.407193</td>\n",
       "      <td>0.095921</td>\n",
       "      <td>0.592941</td>\n",
       "      <td>-0.270533</td>\n",
       "      <td>0.817739</td>\n",
       "      <td>...</td>\n",
       "      <td>-0.009431</td>\n",
       "      <td>0.798278</td>\n",
       "      <td>-0.137458</td>\n",
       "      <td>0.141267</td>\n",
       "      <td>-0.206010</td>\n",
       "      <td>0.502292</td>\n",
       "      <td>0.219422</td>\n",
       "      <td>0.215153</td>\n",
       "      <td>69.99</td>\n",
       "      <td>0</td>\n",
       "    </tr>\n",
       "  </tbody>\n",
       "</table>\n",
       "<p>5 rows × 31 columns</p>\n",
       "</div>"
      ],
      "text/plain": [
       "   Time        V1        V2        V3        V4        V5        V6        V7  \\\n",
       "0   0.0 -1.359807 -0.072781  2.536347  1.378155 -0.338321  0.462388  0.239599   \n",
       "1   0.0  1.191857  0.266151  0.166480  0.448154  0.060018 -0.082361 -0.078803   \n",
       "2   1.0 -1.358354 -1.340163  1.773209  0.379780 -0.503198  1.800499  0.791461   \n",
       "3   1.0 -0.966272 -0.185226  1.792993 -0.863291 -0.010309  1.247203  0.237609   \n",
       "4   2.0 -1.158233  0.877737  1.548718  0.403034 -0.407193  0.095921  0.592941   \n",
       "\n",
       "         V8        V9  ...       V21       V22       V23       V24       V25  \\\n",
       "0  0.098698  0.363787  ... -0.018307  0.277838 -0.110474  0.066928  0.128539   \n",
       "1  0.085102 -0.255425  ... -0.225775 -0.638672  0.101288 -0.339846  0.167170   \n",
       "2  0.247676 -1.514654  ...  0.247998  0.771679  0.909412 -0.689281 -0.327642   \n",
       "3  0.377436 -1.387024  ... -0.108300  0.005274 -0.190321 -1.175575  0.647376   \n",
       "4 -0.270533  0.817739  ... -0.009431  0.798278 -0.137458  0.141267 -0.206010   \n",
       "\n",
       "        V26       V27       V28  Amount  Class  \n",
       "0 -0.189115  0.133558 -0.021053  149.62      0  \n",
       "1  0.125895 -0.008983  0.014724    2.69      0  \n",
       "2 -0.139097 -0.055353 -0.059752  378.66      0  \n",
       "3 -0.221929  0.062723  0.061458  123.50      0  \n",
       "4  0.502292  0.219422  0.215153   69.99      0  \n",
       "\n",
       "[5 rows x 31 columns]"
      ]
     },
     "execution_count": 2,
     "metadata": {},
     "output_type": "execute_result"
    }
   ],
   "source": [
    "credit_data = pd.read_csv('creditcard.csv')\n",
    "credit_data.head()"
   ]
  },
  {
   "cell_type": "markdown",
   "id": "44c8090d",
   "metadata": {},
   "source": [
    "Набор данных содержит транзакции, совершенные европейскими держателями карт по кредитным картам в сентябре 2013 года. В этом наборе данных представлены транзакции, произошедшие за два дня.\n",
    "\n",
    "**V1, V2,… V28** - зашифрованные исходные переменные\n",
    "\n",
    "**Time** содержит секунды, прошедшие между каждой транзакцией и первой транзакцией в наборе данных. \n",
    "\n",
    "**Amount** представляет собой сумму транзакции.\n",
    "\n",
    "**Class** это переменная ответа, которая принимает значение 1 в случае мошенничества и 0 в противном случае.\n",
    "\n",
    "\n"
   ]
  },
  {
   "cell_type": "code",
   "execution_count": 3,
   "id": "e3378084",
   "metadata": {},
   "outputs": [
    {
     "name": "stdout",
     "output_type": "stream",
     "text": [
      "<class 'pandas.core.frame.DataFrame'>\n",
      "RangeIndex: 284807 entries, 0 to 284806\n",
      "Data columns (total 31 columns):\n",
      " #   Column  Non-Null Count   Dtype  \n",
      "---  ------  --------------   -----  \n",
      " 0   Time    284807 non-null  float64\n",
      " 1   V1      284807 non-null  float64\n",
      " 2   V2      284807 non-null  float64\n",
      " 3   V3      284807 non-null  float64\n",
      " 4   V4      284807 non-null  float64\n",
      " 5   V5      284807 non-null  float64\n",
      " 6   V6      284807 non-null  float64\n",
      " 7   V7      284807 non-null  float64\n",
      " 8   V8      284807 non-null  float64\n",
      " 9   V9      284807 non-null  float64\n",
      " 10  V10     284807 non-null  float64\n",
      " 11  V11     284807 non-null  float64\n",
      " 12  V12     284807 non-null  float64\n",
      " 13  V13     284807 non-null  float64\n",
      " 14  V14     284807 non-null  float64\n",
      " 15  V15     284807 non-null  float64\n",
      " 16  V16     284807 non-null  float64\n",
      " 17  V17     284807 non-null  float64\n",
      " 18  V18     284807 non-null  float64\n",
      " 19  V19     284807 non-null  float64\n",
      " 20  V20     284807 non-null  float64\n",
      " 21  V21     284807 non-null  float64\n",
      " 22  V22     284807 non-null  float64\n",
      " 23  V23     284807 non-null  float64\n",
      " 24  V24     284807 non-null  float64\n",
      " 25  V25     284807 non-null  float64\n",
      " 26  V26     284807 non-null  float64\n",
      " 27  V27     284807 non-null  float64\n",
      " 28  V28     284807 non-null  float64\n",
      " 29  Amount  284807 non-null  float64\n",
      " 30  Class   284807 non-null  int64  \n",
      "dtypes: float64(30), int64(1)\n",
      "memory usage: 67.4 MB\n"
     ]
    }
   ],
   "source": [
    "credit_data.info()"
   ]
  },
  {
   "cell_type": "markdown",
   "id": "cc5d95cd",
   "metadata": {},
   "source": [
    "В наборе данных 284807 строк, отсутствующих значений нет"
   ]
  },
  {
   "cell_type": "code",
   "execution_count": 4,
   "id": "a56f6ea0",
   "metadata": {},
   "outputs": [
    {
     "data": {
      "text/html": [
       "<div>\n",
       "<style scoped>\n",
       "    .dataframe tbody tr th:only-of-type {\n",
       "        vertical-align: middle;\n",
       "    }\n",
       "\n",
       "    .dataframe tbody tr th {\n",
       "        vertical-align: top;\n",
       "    }\n",
       "\n",
       "    .dataframe thead th {\n",
       "        text-align: right;\n",
       "    }\n",
       "</style>\n",
       "<table border=\"1\" class=\"dataframe\">\n",
       "  <thead>\n",
       "    <tr style=\"text-align: right;\">\n",
       "      <th></th>\n",
       "      <th>Time</th>\n",
       "      <th>V1</th>\n",
       "      <th>V2</th>\n",
       "      <th>V3</th>\n",
       "      <th>V4</th>\n",
       "      <th>V5</th>\n",
       "      <th>V6</th>\n",
       "      <th>V7</th>\n",
       "      <th>V8</th>\n",
       "      <th>V9</th>\n",
       "      <th>...</th>\n",
       "      <th>V21</th>\n",
       "      <th>V22</th>\n",
       "      <th>V23</th>\n",
       "      <th>V24</th>\n",
       "      <th>V25</th>\n",
       "      <th>V26</th>\n",
       "      <th>V27</th>\n",
       "      <th>V28</th>\n",
       "      <th>Amount</th>\n",
       "      <th>Class</th>\n",
       "    </tr>\n",
       "  </thead>\n",
       "  <tbody>\n",
       "    <tr>\n",
       "      <th>count</th>\n",
       "      <td>284807.000000</td>\n",
       "      <td>2.848070e+05</td>\n",
       "      <td>2.848070e+05</td>\n",
       "      <td>2.848070e+05</td>\n",
       "      <td>2.848070e+05</td>\n",
       "      <td>2.848070e+05</td>\n",
       "      <td>2.848070e+05</td>\n",
       "      <td>2.848070e+05</td>\n",
       "      <td>2.848070e+05</td>\n",
       "      <td>2.848070e+05</td>\n",
       "      <td>...</td>\n",
       "      <td>2.848070e+05</td>\n",
       "      <td>2.848070e+05</td>\n",
       "      <td>2.848070e+05</td>\n",
       "      <td>2.848070e+05</td>\n",
       "      <td>2.848070e+05</td>\n",
       "      <td>2.848070e+05</td>\n",
       "      <td>2.848070e+05</td>\n",
       "      <td>2.848070e+05</td>\n",
       "      <td>284807.000000</td>\n",
       "      <td>284807.000000</td>\n",
       "    </tr>\n",
       "    <tr>\n",
       "      <th>mean</th>\n",
       "      <td>94813.859575</td>\n",
       "      <td>3.918649e-15</td>\n",
       "      <td>5.682686e-16</td>\n",
       "      <td>-8.761736e-15</td>\n",
       "      <td>2.811118e-15</td>\n",
       "      <td>-1.552103e-15</td>\n",
       "      <td>2.040130e-15</td>\n",
       "      <td>-1.698953e-15</td>\n",
       "      <td>-1.893285e-16</td>\n",
       "      <td>-3.147640e-15</td>\n",
       "      <td>...</td>\n",
       "      <td>1.473120e-16</td>\n",
       "      <td>8.042109e-16</td>\n",
       "      <td>5.282512e-16</td>\n",
       "      <td>4.456271e-15</td>\n",
       "      <td>1.426896e-15</td>\n",
       "      <td>1.701640e-15</td>\n",
       "      <td>-3.662252e-16</td>\n",
       "      <td>-1.217809e-16</td>\n",
       "      <td>88.349619</td>\n",
       "      <td>0.001727</td>\n",
       "    </tr>\n",
       "    <tr>\n",
       "      <th>std</th>\n",
       "      <td>47488.145955</td>\n",
       "      <td>1.958696e+00</td>\n",
       "      <td>1.651309e+00</td>\n",
       "      <td>1.516255e+00</td>\n",
       "      <td>1.415869e+00</td>\n",
       "      <td>1.380247e+00</td>\n",
       "      <td>1.332271e+00</td>\n",
       "      <td>1.237094e+00</td>\n",
       "      <td>1.194353e+00</td>\n",
       "      <td>1.098632e+00</td>\n",
       "      <td>...</td>\n",
       "      <td>7.345240e-01</td>\n",
       "      <td>7.257016e-01</td>\n",
       "      <td>6.244603e-01</td>\n",
       "      <td>6.056471e-01</td>\n",
       "      <td>5.212781e-01</td>\n",
       "      <td>4.822270e-01</td>\n",
       "      <td>4.036325e-01</td>\n",
       "      <td>3.300833e-01</td>\n",
       "      <td>250.120109</td>\n",
       "      <td>0.041527</td>\n",
       "    </tr>\n",
       "    <tr>\n",
       "      <th>min</th>\n",
       "      <td>0.000000</td>\n",
       "      <td>-5.640751e+01</td>\n",
       "      <td>-7.271573e+01</td>\n",
       "      <td>-4.832559e+01</td>\n",
       "      <td>-5.683171e+00</td>\n",
       "      <td>-1.137433e+02</td>\n",
       "      <td>-2.616051e+01</td>\n",
       "      <td>-4.355724e+01</td>\n",
       "      <td>-7.321672e+01</td>\n",
       "      <td>-1.343407e+01</td>\n",
       "      <td>...</td>\n",
       "      <td>-3.483038e+01</td>\n",
       "      <td>-1.093314e+01</td>\n",
       "      <td>-4.480774e+01</td>\n",
       "      <td>-2.836627e+00</td>\n",
       "      <td>-1.029540e+01</td>\n",
       "      <td>-2.604551e+00</td>\n",
       "      <td>-2.256568e+01</td>\n",
       "      <td>-1.543008e+01</td>\n",
       "      <td>0.000000</td>\n",
       "      <td>0.000000</td>\n",
       "    </tr>\n",
       "    <tr>\n",
       "      <th>25%</th>\n",
       "      <td>54201.500000</td>\n",
       "      <td>-9.203734e-01</td>\n",
       "      <td>-5.985499e-01</td>\n",
       "      <td>-8.903648e-01</td>\n",
       "      <td>-8.486401e-01</td>\n",
       "      <td>-6.915971e-01</td>\n",
       "      <td>-7.682956e-01</td>\n",
       "      <td>-5.540759e-01</td>\n",
       "      <td>-2.086297e-01</td>\n",
       "      <td>-6.430976e-01</td>\n",
       "      <td>...</td>\n",
       "      <td>-2.283949e-01</td>\n",
       "      <td>-5.423504e-01</td>\n",
       "      <td>-1.618463e-01</td>\n",
       "      <td>-3.545861e-01</td>\n",
       "      <td>-3.171451e-01</td>\n",
       "      <td>-3.269839e-01</td>\n",
       "      <td>-7.083953e-02</td>\n",
       "      <td>-5.295979e-02</td>\n",
       "      <td>5.600000</td>\n",
       "      <td>0.000000</td>\n",
       "    </tr>\n",
       "    <tr>\n",
       "      <th>50%</th>\n",
       "      <td>84692.000000</td>\n",
       "      <td>1.810880e-02</td>\n",
       "      <td>6.548556e-02</td>\n",
       "      <td>1.798463e-01</td>\n",
       "      <td>-1.984653e-02</td>\n",
       "      <td>-5.433583e-02</td>\n",
       "      <td>-2.741871e-01</td>\n",
       "      <td>4.010308e-02</td>\n",
       "      <td>2.235804e-02</td>\n",
       "      <td>-5.142873e-02</td>\n",
       "      <td>...</td>\n",
       "      <td>-2.945017e-02</td>\n",
       "      <td>6.781943e-03</td>\n",
       "      <td>-1.119293e-02</td>\n",
       "      <td>4.097606e-02</td>\n",
       "      <td>1.659350e-02</td>\n",
       "      <td>-5.213911e-02</td>\n",
       "      <td>1.342146e-03</td>\n",
       "      <td>1.124383e-02</td>\n",
       "      <td>22.000000</td>\n",
       "      <td>0.000000</td>\n",
       "    </tr>\n",
       "    <tr>\n",
       "      <th>75%</th>\n",
       "      <td>139320.500000</td>\n",
       "      <td>1.315642e+00</td>\n",
       "      <td>8.037239e-01</td>\n",
       "      <td>1.027196e+00</td>\n",
       "      <td>7.433413e-01</td>\n",
       "      <td>6.119264e-01</td>\n",
       "      <td>3.985649e-01</td>\n",
       "      <td>5.704361e-01</td>\n",
       "      <td>3.273459e-01</td>\n",
       "      <td>5.971390e-01</td>\n",
       "      <td>...</td>\n",
       "      <td>1.863772e-01</td>\n",
       "      <td>5.285536e-01</td>\n",
       "      <td>1.476421e-01</td>\n",
       "      <td>4.395266e-01</td>\n",
       "      <td>3.507156e-01</td>\n",
       "      <td>2.409522e-01</td>\n",
       "      <td>9.104512e-02</td>\n",
       "      <td>7.827995e-02</td>\n",
       "      <td>77.165000</td>\n",
       "      <td>0.000000</td>\n",
       "    </tr>\n",
       "    <tr>\n",
       "      <th>max</th>\n",
       "      <td>172792.000000</td>\n",
       "      <td>2.454930e+00</td>\n",
       "      <td>2.205773e+01</td>\n",
       "      <td>9.382558e+00</td>\n",
       "      <td>1.687534e+01</td>\n",
       "      <td>3.480167e+01</td>\n",
       "      <td>7.330163e+01</td>\n",
       "      <td>1.205895e+02</td>\n",
       "      <td>2.000721e+01</td>\n",
       "      <td>1.559499e+01</td>\n",
       "      <td>...</td>\n",
       "      <td>2.720284e+01</td>\n",
       "      <td>1.050309e+01</td>\n",
       "      <td>2.252841e+01</td>\n",
       "      <td>4.584549e+00</td>\n",
       "      <td>7.519589e+00</td>\n",
       "      <td>3.517346e+00</td>\n",
       "      <td>3.161220e+01</td>\n",
       "      <td>3.384781e+01</td>\n",
       "      <td>25691.160000</td>\n",
       "      <td>1.000000</td>\n",
       "    </tr>\n",
       "  </tbody>\n",
       "</table>\n",
       "<p>8 rows × 31 columns</p>\n",
       "</div>"
      ],
      "text/plain": [
       "                Time            V1            V2            V3            V4  \\\n",
       "count  284807.000000  2.848070e+05  2.848070e+05  2.848070e+05  2.848070e+05   \n",
       "mean    94813.859575  3.918649e-15  5.682686e-16 -8.761736e-15  2.811118e-15   \n",
       "std     47488.145955  1.958696e+00  1.651309e+00  1.516255e+00  1.415869e+00   \n",
       "min         0.000000 -5.640751e+01 -7.271573e+01 -4.832559e+01 -5.683171e+00   \n",
       "25%     54201.500000 -9.203734e-01 -5.985499e-01 -8.903648e-01 -8.486401e-01   \n",
       "50%     84692.000000  1.810880e-02  6.548556e-02  1.798463e-01 -1.984653e-02   \n",
       "75%    139320.500000  1.315642e+00  8.037239e-01  1.027196e+00  7.433413e-01   \n",
       "max    172792.000000  2.454930e+00  2.205773e+01  9.382558e+00  1.687534e+01   \n",
       "\n",
       "                 V5            V6            V7            V8            V9  \\\n",
       "count  2.848070e+05  2.848070e+05  2.848070e+05  2.848070e+05  2.848070e+05   \n",
       "mean  -1.552103e-15  2.040130e-15 -1.698953e-15 -1.893285e-16 -3.147640e-15   \n",
       "std    1.380247e+00  1.332271e+00  1.237094e+00  1.194353e+00  1.098632e+00   \n",
       "min   -1.137433e+02 -2.616051e+01 -4.355724e+01 -7.321672e+01 -1.343407e+01   \n",
       "25%   -6.915971e-01 -7.682956e-01 -5.540759e-01 -2.086297e-01 -6.430976e-01   \n",
       "50%   -5.433583e-02 -2.741871e-01  4.010308e-02  2.235804e-02 -5.142873e-02   \n",
       "75%    6.119264e-01  3.985649e-01  5.704361e-01  3.273459e-01  5.971390e-01   \n",
       "max    3.480167e+01  7.330163e+01  1.205895e+02  2.000721e+01  1.559499e+01   \n",
       "\n",
       "       ...           V21           V22           V23           V24  \\\n",
       "count  ...  2.848070e+05  2.848070e+05  2.848070e+05  2.848070e+05   \n",
       "mean   ...  1.473120e-16  8.042109e-16  5.282512e-16  4.456271e-15   \n",
       "std    ...  7.345240e-01  7.257016e-01  6.244603e-01  6.056471e-01   \n",
       "min    ... -3.483038e+01 -1.093314e+01 -4.480774e+01 -2.836627e+00   \n",
       "25%    ... -2.283949e-01 -5.423504e-01 -1.618463e-01 -3.545861e-01   \n",
       "50%    ... -2.945017e-02  6.781943e-03 -1.119293e-02  4.097606e-02   \n",
       "75%    ...  1.863772e-01  5.285536e-01  1.476421e-01  4.395266e-01   \n",
       "max    ...  2.720284e+01  1.050309e+01  2.252841e+01  4.584549e+00   \n",
       "\n",
       "                V25           V26           V27           V28         Amount  \\\n",
       "count  2.848070e+05  2.848070e+05  2.848070e+05  2.848070e+05  284807.000000   \n",
       "mean   1.426896e-15  1.701640e-15 -3.662252e-16 -1.217809e-16      88.349619   \n",
       "std    5.212781e-01  4.822270e-01  4.036325e-01  3.300833e-01     250.120109   \n",
       "min   -1.029540e+01 -2.604551e+00 -2.256568e+01 -1.543008e+01       0.000000   \n",
       "25%   -3.171451e-01 -3.269839e-01 -7.083953e-02 -5.295979e-02       5.600000   \n",
       "50%    1.659350e-02 -5.213911e-02  1.342146e-03  1.124383e-02      22.000000   \n",
       "75%    3.507156e-01  2.409522e-01  9.104512e-02  7.827995e-02      77.165000   \n",
       "max    7.519589e+00  3.517346e+00  3.161220e+01  3.384781e+01   25691.160000   \n",
       "\n",
       "               Class  \n",
       "count  284807.000000  \n",
       "mean        0.001727  \n",
       "std         0.041527  \n",
       "min         0.000000  \n",
       "25%         0.000000  \n",
       "50%         0.000000  \n",
       "75%         0.000000  \n",
       "max         1.000000  \n",
       "\n",
       "[8 rows x 31 columns]"
      ]
     },
     "execution_count": 4,
     "metadata": {},
     "output_type": "execute_result"
    }
   ],
   "source": [
    "credit_data.describe()"
   ]
  },
  {
   "cell_type": "markdown",
   "id": "ae944e11",
   "metadata": {},
   "source": [
    "В таблице видно, что минимальная сумма транзакции = 0. Проверим, сколько нулевых транзакций содержит набор данных"
   ]
  },
  {
   "cell_type": "code",
   "execution_count": 5,
   "id": "5cd250f8",
   "metadata": {},
   "outputs": [
    {
     "data": {
      "text/plain": [
       "1798"
      ]
     },
     "execution_count": 5,
     "metadata": {},
     "output_type": "execute_result"
    }
   ],
   "source": [
    "len(credit_data.loc[((credit_data.Amount == 0) & (credit_data.Class == 0))])"
   ]
  },
  {
   "cell_type": "code",
   "execution_count": 6,
   "id": "838420c8",
   "metadata": {},
   "outputs": [
    {
     "data": {
      "text/plain": [
       "27"
      ]
     },
     "execution_count": 6,
     "metadata": {},
     "output_type": "execute_result"
    }
   ],
   "source": [
    "len(credit_data.loc[((credit_data.Amount == 0) & (credit_data.Class == 1))])"
   ]
  },
  {
   "cell_type": "markdown",
   "id": "69db2d68",
   "metadata": {},
   "source": [
    "Набор данных содержит 1798 безопасных и 27 мошеннических транзакций, где сумма = 0. Транзакция не может быть нулевой, поэтому удалим эти строки"
   ]
  },
  {
   "cell_type": "code",
   "execution_count": 7,
   "id": "8ba2e056",
   "metadata": {},
   "outputs": [
    {
     "data": {
      "text/plain": [
       "282982"
      ]
     },
     "execution_count": 7,
     "metadata": {},
     "output_type": "execute_result"
    }
   ],
   "source": [
    "credit_data = credit_data[credit_data.Amount != 0]\n",
    "len(credit_data)"
   ]
  },
  {
   "cell_type": "code",
   "execution_count": 8,
   "id": "87262ab1",
   "metadata": {},
   "outputs": [
    {
     "name": "stdout",
     "output_type": "stream",
     "text": [
      "В наборе данных 0.16 % мошеннических транзакций\n"
     ]
    },
    {
     "data": {
      "image/png": "[encoded data removed]",
      "text/plain": [
       "<Figure size 432x288 with 1 Axes>"
      ]
     },
     "metadata": {},
     "output_type": "display_data"
    }
   ],
   "source": [
    "sns.countplot(x = 'Class', data = credit_data)\n",
    "print('В наборе данных', round((credit_data.Class.sum()/credit_data.Class.count()*100),2),'% мошеннических транзакций')"
   ]
  },
  {
   "cell_type": "code",
   "execution_count": 9,
   "id": "fc211506",
   "metadata": {},
   "outputs": [
    {
     "data": {
      "text/plain": [
       "0    282517\n",
       "1       465\n",
       "Name: Class, dtype: int64"
      ]
     },
     "execution_count": 9,
     "metadata": {},
     "output_type": "execute_result"
    }
   ],
   "source": [
    "credit_data.Class.value_counts()"
   ]
  },
  {
   "cell_type": "markdown",
   "id": "524babe5",
   "metadata": {},
   "source": [
    "Классы сильно не сбалансированы, из 282517 операций всего 465 мошеннические\n",
    "\n",
    "2 атрибута - Time и Amount не зашифрованы, посмотрим на их распределения в зависимости от типа транзакции"
   ]
  },
  {
   "cell_type": "code",
   "execution_count": 10,
   "id": "a3381d03",
   "metadata": {},
   "outputs": [
    {
     "data": {
      "image/png": "[encoded data removed]",
      "text/plain": [
       "<Figure size 1152x504 with 2 Axes>"
      ]
     },
     "metadata": {},
     "output_type": "display_data"
    }
   ],
   "source": [
    "class_0 = credit_data[credit_data.Class == 0]['Time']\n",
    "class_1 = credit_data[credit_data.Class == 1]['Time']\n",
    "\n",
    "fig, axes = plt.subplots(1,2, figsize=(16,7))\n",
    "\n",
    "sns.histplot(class_0, kde = True, ax = axes[0])\n",
    "sns.histplot(class_1, kde = True, color = 'red', ax = axes[1]);"
   ]
  },
  {
   "cell_type": "markdown",
   "id": "f947dcf9",
   "metadata": {},
   "source": [
    "В сутках 86400 секунд, на графике распределения времени безопасных транзакций видно, что ночью совершается минимум транзакций. Распределение времени мошеннических транзакций имеет другую форму, оно не так сильно зависит от времени суток\n",
    "\n",
    "Посмотрим на распределение сумм в зависимости от типа транзакции"
   ]
  },
  {
   "cell_type": "code",
   "execution_count": 11,
   "id": "f3947d01",
   "metadata": {},
   "outputs": [
    {
     "data": {
      "text/plain": [
       "<AxesSubplot:xlabel='Class', ylabel='Amount'>"
      ]
     },
     "execution_count": 11,
     "metadata": {},
     "output_type": "execute_result"
    },
    {
     "data": {
      "image/png": "[encoded data removed]",
      "text/plain": [
       "<Figure size 432x288 with 1 Axes>"
      ]
     },
     "metadata": {},
     "output_type": "display_data"
    }
   ],
   "source": [
    "sns.boxplot(data = credit_data, x = 'Class', y = 'Amount', showfliers=True)"
   ]
  },
  {
   "cell_type": "markdown",
   "id": "fba6d70c",
   "metadata": {},
   "source": [
    "Боксплот оказался не очень информативен, так как данные содержат много выбросов. Посмотрим как распределены суммы транзакций, используя описательные статистики"
   ]
  },
  {
   "cell_type": "code",
   "execution_count": 12,
   "id": "2f623e2d",
   "metadata": {},
   "outputs": [
    {
     "data": {
      "text/plain": [
       "count    282517.000000\n",
       "mean         88.852926\n",
       "std         250.800179\n",
       "min           0.010000\n",
       "25%           5.990000\n",
       "50%          22.490000\n",
       "75%          78.000000\n",
       "max       25691.160000\n",
       "Name: Amount, dtype: float64"
      ]
     },
     "execution_count": 12,
     "metadata": {},
     "output_type": "execute_result"
    }
   ],
   "source": [
    "class_0 = credit_data[credit_data.Class == 0]['Amount']\n",
    "class_1 = credit_data[credit_data.Class == 1]['Amount']\n",
    "\n",
    "class_0.describe()"
   ]
  },
  {
   "cell_type": "code",
   "execution_count": 13,
   "id": "f74703ee",
   "metadata": {},
   "outputs": [
    {
     "data": {
      "text/plain": [
       "count     465.000000\n",
       "mean      129.307462\n",
       "std       262.298781\n",
       "min         0.010000\n",
       "25%         1.000000\n",
       "50%        17.060000\n",
       "75%       111.700000\n",
       "max      2125.870000\n",
       "Name: Amount, dtype: float64"
      ]
     },
     "execution_count": 13,
     "metadata": {},
     "output_type": "execute_result"
    }
   ],
   "source": [
    "class_1.describe()"
   ]
  },
  {
   "cell_type": "markdown",
   "id": "8fa83068",
   "metadata": {},
   "source": [
    "Интерквартильный размах и медианы разные для мошеннических и безопасных транзакций. Медиана сумм безопасных транзакций - 22.49 доллара, тогда как медиана мошеннических транзакций - 17.06 доллара\n",
    "\n",
    "Посмотрим распределения всех признаков с учетом типа транзакции"
   ]
  },
  {
   "cell_type": "code",
   "execution_count": 14,
   "id": "7463afd1",
   "metadata": {},
   "outputs": [
    {
     "name": "stderr",
     "output_type": "stream",
     "text": [
      "/Users/iriska/opt/anaconda3/lib/python3.9/site-packages/seaborn/distributions.py:316: UserWarning: Dataset has 0 variance; skipping density estimate. Pass `warn_singular=False` to disable this warning.\n",
      "  warnings.warn(msg, UserWarning)\n",
      "/Users/iriska/opt/anaconda3/lib/python3.9/site-packages/seaborn/distributions.py:316: UserWarning: Dataset has 0 variance; skipping density estimate. Pass `warn_singular=False` to disable this warning.\n",
      "  warnings.warn(msg, UserWarning)\n",
      "No artists with labels found to put in legend.  Note that artists whose label start with an underscore are ignored when legend() is called with no argument.\n"
     ]
    },
    {
     "data": {
      "text/plain": [
       "<Figure size 432x288 with 0 Axes>"
      ]
     },
     "metadata": {},
     "output_type": "display_data"
    },
    {
     "data": {
      "image/png": "[encoded data removed]",
      "text/plain": [
       "<Figure size 1152x2016 with 32 Axes>"
      ]
     },
     "metadata": {},
     "output_type": "display_data"
    }
   ],
   "source": [
    "col_values = credit_data.columns.values\n",
    "\n",
    "i = 0\n",
    "class_0 = credit_data.loc[credit_data.Class == 0]\n",
    "class_1 = credit_data.loc[credit_data.Class == 1]\n",
    "\n",
    "plt.figure()\n",
    "fig, axes = plt.subplots(8, 4, figsize=(16,28))\n",
    "\n",
    "for column in col_values:\n",
    "    i += 1\n",
    "    plt.subplot(8,4,i)\n",
    "    sns.kdeplot(class_0[column], bw_method = 0.2, label = 'Class = 0')\n",
    "    sns.kdeplot(class_1[column], bw_method = 0.2, label = 'Class = 1')\n",
    "    plt.xlabel(column, fontsize = 12)\n",
    "    locs, labels = plt.xticks()\n",
    "    plt.tick_params(axis = 'both', which = 'major', labelsize = 12)\n",
    "    plt.legend()\n",
    "plt.show();\n"
   ]
  },
  {
   "cell_type": "markdown",
   "id": "19499a98",
   "metadata": {},
   "source": [
    "Для безопасных транзакций значения всех атрибутов (помимо Time) сосредоточены около 0, а мошеннические часто имеют смещения. Атрибуты Time, V1, V3, V4, V9, V10, V11, V12, V14, V16, V17, V18, V19 имеют разное распределение значений для мошеннических и безопасных транзакций\n",
    "\n",
    "Построим матрицу корреляций"
   ]
  },
  {
   "cell_type": "code",
   "execution_count": 15,
   "id": "b278c3e6",
   "metadata": {},
   "outputs": [
    {
     "data": {
      "image/png": "[encoded data removed]",
      "text/plain": [
       "<Figure size 1440x1008 with 2 Axes>"
      ]
     },
     "metadata": {},
     "output_type": "display_data"
    }
   ],
   "source": [
    "corr = credit_data.corr()\n",
    "f, ax = plt.subplots(figsize=(20,14))\n",
    "sns.heatmap(corr, annot = True, fmt = '.2f', linewidths = 0.5);"
   ]
  },
  {
   "cell_type": "code",
   "execution_count": null,
   "id": "19835ce3",
   "metadata": {},
   "outputs": [],
   "source": []
  },
  {
   "cell_type": "markdown",
   "id": "4f5c038b",
   "metadata": {},
   "source": [
    "## Делим исходный набор данных на обучающую и тестовую выборки\n",
    "\n",
    "Так как набор данных сильно несбалансирован, нужно разделить его на тестовую и обучающие выборки с сохранением пропорций классов, это нужно, чтобы проверять модель на исходной тестовой выборке.\n",
    "\n",
    "Разделим все безопасные транзакции на тестовую и тренировочную выборку. \n",
    "\n",
    "Разделим все мошеннические транзакции на тестовую и тренировочную выборки. \n",
    "\n",
    "Соединим эти выборки"
   ]
  },
  {
   "cell_type": "code",
   "execution_count": 16,
   "id": "25a8d7a7",
   "metadata": {},
   "outputs": [],
   "source": [
    "class_0 = credit_data.loc[credit_data.Class == 0]\n",
    "\n",
    "X_0 = class_0.drop('Class', axis=1)\n",
    "y_0 = class_0['Class']\n",
    "\n",
    "from sklearn.model_selection import train_test_split\n",
    "X0_train, X0_test, y0_train, y0_test = train_test_split(X_0, y_0, random_state=42,\n",
    "                                                    # доля объёма тестового множества\n",
    "                                                    test_size=0.2)\n",
    "\n",
    "class_1 = credit_data.loc[credit_data.Class == 1]\n",
    "\n",
    "X_1 = class_1.drop('Class', axis=1)\n",
    "y_1 = class_1['Class']\n",
    "\n",
    "X1_train, X1_test, y1_train, y1_test = train_test_split(X_1, y_1, random_state=42, test_size=0.2)\n",
    "\n",
    "X_train_original = pd.concat([X0_train, X1_train])\n",
    "y_train_original = pd.concat([y0_train, y1_train])\n",
    "X_test_original = pd.concat([X0_test, X1_test])\n",
    "y_test_original = pd.concat([y0_test, y1_test])"
   ]
  },
  {
   "cell_type": "code",
   "execution_count": 17,
   "id": "9a5f3eee",
   "metadata": {},
   "outputs": [
    {
     "data": {
      "text/plain": [
       "0    226013\n",
       "1       372\n",
       "Name: Class, dtype: int64"
      ]
     },
     "execution_count": 17,
     "metadata": {},
     "output_type": "execute_result"
    }
   ],
   "source": [
    "y_train_original.value_counts()"
   ]
  },
  {
   "cell_type": "code",
   "execution_count": 18,
   "id": "653adbfb",
   "metadata": {},
   "outputs": [
    {
     "name": "stdout",
     "output_type": "stream",
     "text": [
      "% мошеннических операций в тренировочной выборке 0.0016459230221270457\n"
     ]
    }
   ],
   "source": [
    "print('% мошеннических операций в тренировочной выборке', 372/226013)"
   ]
  },
  {
   "cell_type": "code",
   "execution_count": 19,
   "id": "2d338dfd",
   "metadata": {},
   "outputs": [
    {
     "data": {
      "text/plain": [
       "0    56504\n",
       "1       93\n",
       "Name: Class, dtype: int64"
      ]
     },
     "execution_count": 19,
     "metadata": {},
     "output_type": "execute_result"
    }
   ],
   "source": [
    "y_test_original.value_counts()"
   ]
  },
  {
   "cell_type": "code",
   "execution_count": 20,
   "id": "58ab2d6c",
   "metadata": {},
   "outputs": [
    {
     "name": "stdout",
     "output_type": "stream",
     "text": [
      "% мошеннических операций в тестовой выборке 0.0016459011751380434\n"
     ]
    }
   ],
   "source": [
    "print('% мошеннических операций в тестовой выборке', 93/56504)"
   ]
  },
  {
   "cell_type": "markdown",
   "id": "a859a054",
   "metadata": {},
   "source": [
    "#### UnderSampling \n",
    "\n",
    "Создаем сбалансированную обучающую выборку с помощью метода NearMiss"
   ]
  },
  {
   "cell_type": "code",
   "execution_count": 21,
   "id": "b5aab2b9",
   "metadata": {},
   "outputs": [
    {
     "data": {
      "text/plain": [
       "0    372\n",
       "1    372\n",
       "Name: Class, dtype: int64"
      ]
     },
     "execution_count": 21,
     "metadata": {},
     "output_type": "execute_result"
    }
   ],
   "source": [
    "from imblearn.under_sampling import NearMiss\n",
    "\n",
    "undersample = NearMiss()\n",
    "\n",
    "X_train_balance, y_train_balance = undersample.fit_resample(X_train_original, y_train_original)\n",
    "\n",
    "y_train_balance.value_counts()"
   ]
  },
  {
   "cell_type": "markdown",
   "id": "5ed2e102",
   "metadata": {},
   "source": [
    "### Логистическая регрессия"
   ]
  },
  {
   "cell_type": "markdown",
   "id": "80137d17",
   "metadata": {},
   "source": [
    "Строим логистическую регрессию со всеми предикторами. Используем statsmodels чтобы увидеть значимость коэффициентов"
   ]
  },
  {
   "cell_type": "code",
   "execution_count": 22,
   "id": "df7024fe",
   "metadata": {},
   "outputs": [
    {
     "name": "stdout",
     "output_type": "stream",
     "text": [
      "Optimization terminated successfully.\n",
      "         Current function value: 0.073038\n",
      "         Iterations 23\n",
      "                           Logit Regression Results                           \n",
      "==============================================================================\n",
      "Dep. Variable:                  Class   No. Observations:                  744\n",
      "Model:                          Logit   Df Residuals:                      714\n",
      "Method:                           MLE   Df Model:                           29\n",
      "Date:                Fri, 20 Oct 2023   Pseudo R-squ.:                  0.8946\n",
      "Time:                        15:58:03   Log-Likelihood:                -54.340\n",
      "converged:                       True   LL-Null:                       -515.70\n",
      "Covariance Type:            nonrobust   LLR p-value:                1.767e-175\n",
      "==============================================================================\n",
      "                 coef    std err          z      P>|z|      [0.025      0.975]\n",
      "------------------------------------------------------------------------------\n",
      "Time       -3.568e-05   1.34e-05     -2.652      0.008    -6.2e-05   -9.31e-06\n",
      "V1           -11.3186      5.471     -2.069      0.039     -22.042      -0.596\n",
      "V2            13.3986      9.205      1.456      0.146      -4.643      31.440\n",
      "V3           -30.3140     14.677     -2.065      0.039     -59.080      -1.548\n",
      "V4            20.6330      9.245      2.232      0.026       2.514      38.752\n",
      "V5           -19.7965      9.265     -2.137      0.033     -37.956      -1.637\n",
      "V6            -7.6329      4.623     -1.651      0.099     -16.694       1.428\n",
      "V7           -42.1857     22.509     -1.874      0.061     -86.303       1.931\n",
      "V8             7.0953      4.730      1.500      0.134      -2.175      16.366\n",
      "V9           -22.3404     10.277     -2.174      0.030     -42.483      -2.198\n",
      "V10          -50.6900     24.036     -2.109      0.035     -97.799      -3.581\n",
      "V11           34.5356     17.536      1.969      0.049       0.166      68.905\n",
      "V12          -63.0486     31.346     -2.011      0.044    -124.486      -1.611\n",
      "V13            0.3479      0.434      0.802      0.423      -0.502       1.198\n",
      "V14          -66.0984     32.895     -2.009      0.044    -130.572      -1.625\n",
      "V15           -1.4389      0.781     -1.843      0.065      -2.969       0.092\n",
      "V16          -58.4023     29.414     -1.986      0.047    -116.053      -0.751\n",
      "V17         -106.4697     53.290     -1.998      0.046    -210.917      -2.023\n",
      "V18          -39.2806     19.922     -1.972      0.049     -78.327      -0.234\n",
      "V19           14.1208      6.837      2.065      0.039       0.720      27.521\n",
      "V20            1.3660      2.664      0.513      0.608      -3.856       6.588\n",
      "V21            7.2299      3.599      2.009      0.045       0.177      14.283\n",
      "V22            2.4218      1.129      2.146      0.032       0.210       4.634\n",
      "V23            2.6391      2.850      0.926      0.354      -2.946       8.224\n",
      "V24            0.0337      0.800      0.042      0.966      -1.534       1.602\n",
      "V25            3.0541      2.554      1.196      0.232      -1.952       8.060\n",
      "V26            1.4497      1.139      1.273      0.203      -0.782       3.681\n",
      "V27           12.2918      6.204      1.981      0.048       0.131      24.452\n",
      "V28            6.1000      6.903      0.884      0.377      -7.429      19.629\n",
      "Amount         0.0639      0.031      2.035      0.042       0.002       0.126\n",
      "==============================================================================\n",
      "\n",
      "Possibly complete quasi-separation: A fraction 0.57 of observations can be\n",
      "perfectly predicted. This might indicate that there is complete\n",
      "quasi-separation. In this case some parameters will not be identified.\n"
     ]
    }
   ],
   "source": [
    "import statsmodels.api as sm\n",
    "\n",
    "log_reg = sm.Logit(y_train_balance, X_train_balance).fit() \n",
    "print(log_reg.summary())"
   ]
  },
  {
   "cell_type": "markdown",
   "id": "7525274c",
   "metadata": {},
   "source": [
    "Атрибуты V2, V6, V7, V8, V13, V15, V20, V23, V24, V25, V26, V28 не являются значимыми. Удалим их и построим модель вновь."
   ]
  },
  {
   "cell_type": "code",
   "execution_count": 23,
   "id": "e7f0b4ba",
   "metadata": {},
   "outputs": [
    {
     "name": "stdout",
     "output_type": "stream",
     "text": [
      "Optimization terminated successfully.\n",
      "         Current function value: 0.101479\n",
      "         Iterations 15\n",
      "                           Logit Regression Results                           \n",
      "==============================================================================\n",
      "Dep. Variable:                  Class   No. Observations:                  744\n",
      "Model:                          Logit   Df Residuals:                      726\n",
      "Method:                           MLE   Df Model:                           17\n",
      "Date:                Fri, 20 Oct 2023   Pseudo R-squ.:                  0.8536\n",
      "Time:                        15:58:09   Log-Likelihood:                -75.500\n",
      "converged:                       True   LL-Null:                       -515.70\n",
      "Covariance Type:            nonrobust   LLR p-value:                3.240e-176\n",
      "==============================================================================\n",
      "                 coef    std err          z      P>|z|      [0.025      0.975]\n",
      "------------------------------------------------------------------------------\n",
      "Time       -3.956e-05   5.32e-06     -7.434      0.000      -5e-05   -2.91e-05\n",
      "V1            -0.2960      0.378     -0.782      0.434      -1.038       0.446\n",
      "V3            -1.5611      0.514     -3.038      0.002      -2.568      -0.554\n",
      "V4             1.4824      0.394      3.762      0.000       0.710       2.255\n",
      "V5            -0.8537      0.639     -1.336      0.182      -2.106       0.399\n",
      "V9            -0.9459      0.405     -2.337      0.019      -1.739      -0.153\n",
      "V10           -1.3737      0.723     -1.900      0.057      -2.791       0.043\n",
      "V11            0.5137      0.505      1.018      0.309      -0.476       1.503\n",
      "V12           -2.1767      0.866     -2.514      0.012      -3.874      -0.480\n",
      "V14           -2.8430      0.883     -3.218      0.001      -4.574      -1.112\n",
      "V16           -1.8546      0.770     -2.408      0.016      -3.364      -0.345\n",
      "V17           -3.2658      1.361     -2.400      0.016      -5.932      -0.599\n",
      "V18           -0.5922      0.647     -0.915      0.360      -1.860       0.676\n",
      "V19            0.6497      0.401      1.619      0.105      -0.137       1.436\n",
      "V21            0.8934      0.286      3.122      0.002       0.333       1.454\n",
      "V22            1.1583      0.418      2.771      0.006       0.339       1.978\n",
      "V27            0.6849      1.078      0.635      0.525      -1.428       2.798\n",
      "Amount         0.0232      0.008      2.893      0.004       0.007       0.039\n",
      "==============================================================================\n",
      "\n",
      "Possibly complete quasi-separation: A fraction 0.45 of observations can be\n",
      "perfectly predicted. This might indicate that there is complete\n",
      "quasi-separation. In this case some parameters will not be identified.\n"
     ]
    }
   ],
   "source": [
    "column = ['Time', 'V1', 'V3', 'V4', 'V5', 'V9', 'V10', 'V11', 'V12', 'V14',\n",
    "                    'V16', 'V17', 'V18', 'V19', 'V21', 'V22', 'V27', 'Amount']\n",
    "X = X_train_balance.loc[:, column]\n",
    "log_reg = sm.Logit(y_train_balance, X).fit() \n",
    "print(log_reg.summary())"
   ]
  },
  {
   "cell_type": "markdown",
   "id": "3352e5f9",
   "metadata": {},
   "source": [
    "В новой модели коэффициенты V1, V5, V11, V18, V19, V27 оказались не значимы, удалим их и построим модель вновь."
   ]
  },
  {
   "cell_type": "code",
   "execution_count": 24,
   "id": "374b46c8",
   "metadata": {},
   "outputs": [
    {
     "name": "stdout",
     "output_type": "stream",
     "text": [
      "Optimization terminated successfully.\n",
      "         Current function value: 0.106732\n",
      "         Iterations 13\n",
      "                           Logit Regression Results                           \n",
      "==============================================================================\n",
      "Dep. Variable:                  Class   No. Observations:                  744\n",
      "Model:                          Logit   Df Residuals:                      733\n",
      "Method:                           MLE   Df Model:                           10\n",
      "Date:                Fri, 20 Oct 2023   Pseudo R-squ.:                  0.8460\n",
      "Time:                        15:58:19   Log-Likelihood:                -79.408\n",
      "converged:                       True   LL-Null:                       -515.70\n",
      "Covariance Type:            nonrobust   LLR p-value:                5.048e-181\n",
      "==============================================================================\n",
      "                 coef    std err          z      P>|z|      [0.025      0.975]\n",
      "------------------------------------------------------------------------------\n",
      "Time       -4.204e-05   4.41e-06     -9.542      0.000   -5.07e-05   -3.34e-05\n",
      "V3            -0.8606      0.191     -4.516      0.000      -1.234      -0.487\n",
      "V4             0.8561      0.165      5.191      0.000       0.533       1.179\n",
      "V9            -0.5998      0.232     -2.589      0.010      -1.054      -0.146\n",
      "V12           -0.8302      0.289     -2.869      0.004      -1.397      -0.263\n",
      "V14           -1.4867      0.299     -4.975      0.000      -2.072      -0.901\n",
      "V16           -0.6905      0.342     -2.018      0.044      -1.361      -0.020\n",
      "V17           -1.0140      0.326     -3.109      0.002      -1.653      -0.375\n",
      "V21            0.7570      0.241      3.139      0.002       0.284       1.230\n",
      "V22            1.0866      0.395      2.753      0.006       0.313       1.860\n",
      "Amount         0.0254      0.007      3.720      0.000       0.012       0.039\n",
      "==============================================================================\n",
      "\n",
      "Possibly complete quasi-separation: A fraction 0.43 of observations can be\n",
      "perfectly predicted. This might indicate that there is complete\n",
      "quasi-separation. In this case some parameters will not be identified.\n"
     ]
    }
   ],
   "source": [
    "column = ['Time', 'V3', 'V4', 'V9', 'V12', 'V14',\n",
    "                    'V16', 'V17', 'V21', 'V22', 'Amount']\n",
    "X = X_train_balance.loc[:, column]\n",
    "log_reg = sm.Logit(y_train_balance, X).fit() \n",
    "print(log_reg.summary())"
   ]
  },
  {
   "cell_type": "markdown",
   "id": "531839bd",
   "metadata": {},
   "source": [
    "В модели все коэффициенты значимы, оценим качество модели с помошью classification_report"
   ]
  },
  {
   "cell_type": "code",
   "execution_count": 25,
   "id": "c0e607ee",
   "metadata": {},
   "outputs": [
    {
     "name": "stdout",
     "output_type": "stream",
     "text": [
      "Score обучающая выборка: 0.941\n",
      "Score тестовая выборка: 0.813\n"
     ]
    }
   ],
   "source": [
    "from sklearn.linear_model import LogisticRegression\n",
    "from sklearn import metrics\n",
    "\n",
    "model = LogisticRegression(solver='liblinear')\n",
    "model.fit(X, y_train_balance)\n",
    "\n",
    "X_test = X_test_original.loc[:, column]\n",
    "print(\"Score обучающая выборка: {:.3f}\".format(model.score(X, y_train_balance)))\n",
    "print(\"Score тестовая выборка: {:.3f}\".format(model.score(X_test, y_test_original)))"
   ]
  },
  {
   "cell_type": "code",
   "execution_count": 26,
   "id": "878b8122",
   "metadata": {},
   "outputs": [
    {
     "name": "stdout",
     "output_type": "stream",
     "text": [
      "              precision    recall  f1-score   support\n",
      "\n",
      "           0       0.81      1.00      0.90     45966\n",
      "           1       0.80      0.01      0.01     10631\n",
      "\n",
      "    accuracy                           0.81     56597\n",
      "   macro avg       0.80      0.50      0.46     56597\n",
      "weighted avg       0.81      0.81      0.73     56597\n",
      "\n"
     ]
    }
   ],
   "source": [
    "# Строим предсказание модели на тестовом множестве\n",
    "\n",
    "y_pred = model.predict(X_test)\n",
    "print(metrics.classification_report(y_pred, y_test_original))"
   ]
  },
  {
   "cell_type": "code",
   "execution_count": 27,
   "id": "4bf29cff",
   "metadata": {},
   "outputs": [
    {
     "data": {
      "text/html": [
       "<div>\n",
       "<style scoped>\n",
       "    .dataframe tbody tr th:only-of-type {\n",
       "        vertical-align: middle;\n",
       "    }\n",
       "\n",
       "    .dataframe tbody tr th {\n",
       "        vertical-align: top;\n",
       "    }\n",
       "\n",
       "    .dataframe thead th {\n",
       "        text-align: right;\n",
       "    }\n",
       "</style>\n",
       "<table border=\"1\" class=\"dataframe\">\n",
       "  <thead>\n",
       "    <tr style=\"text-align: right;\">\n",
       "      <th></th>\n",
       "      <th>0</th>\n",
       "      <th>1</th>\n",
       "    </tr>\n",
       "  </thead>\n",
       "  <tbody>\n",
       "    <tr>\n",
       "      <th>0</th>\n",
       "      <td>45947</td>\n",
       "      <td>10557</td>\n",
       "    </tr>\n",
       "    <tr>\n",
       "      <th>1</th>\n",
       "      <td>19</td>\n",
       "      <td>74</td>\n",
       "    </tr>\n",
       "  </tbody>\n",
       "</table>\n",
       "</div>"
      ],
      "text/plain": [
       "       0      1\n",
       "0  45947  10557\n",
       "1     19     74"
      ]
     },
     "execution_count": 27,
     "metadata": {},
     "output_type": "execute_result"
    }
   ],
   "source": [
    "#Строим матрицу ошибок\n",
    "\n",
    "conf_mat = metrics.confusion_matrix(y_test_original, y_pred)\n",
    "conf_mat = pd.DataFrame(conf_mat, index=model.classes_, columns=model.classes_)\n",
    "conf_mat"
   ]
  },
  {
   "cell_type": "markdown",
   "id": "f946081f",
   "metadata": {},
   "source": [
    "Точность модели, использующей обучающую выборку выше на 13%, чем точность модели с тестовыми данными, возможно, это связано с переобучением. Попробуем упростить модель, для этого будем по одному убирать предикторы из модели и оценивать accuracy"
   ]
  },
  {
   "cell_type": "code",
   "execution_count": 28,
   "id": "a138c902",
   "metadata": {},
   "outputs": [
    {
     "name": "stdout",
     "output_type": "stream",
     "text": [
      "Score обучающая выборка: 0.968\n",
      "Score тестовая выборка: 0.831\n"
     ]
    }
   ],
   "source": [
    "# без Time\n",
    "column = ['V3', 'V4', 'V9', 'V12', 'V14', 'V16', 'V17', 'V21', 'V22', 'Amount']\n",
    "\n",
    "X = X_train_balance.loc[:, column]\n",
    "X_test = X_test_original.loc[:, column]\n",
    "\n",
    "model = LogisticRegression(solver='liblinear')\n",
    "model.fit(X, y_train_balance)\n",
    "\n",
    "print(\"Score обучающая выборка: {:.3f}\".format(model.score(X, y_train_balance)))\n",
    "print(\"Score тестовая выборка: {:.3f}\".format(model.score(X_test, y_test_original)))"
   ]
  },
  {
   "cell_type": "code",
   "execution_count": 29,
   "id": "e65357cb",
   "metadata": {},
   "outputs": [
    {
     "name": "stdout",
     "output_type": "stream",
     "text": [
      "Score обучающая выборка: 0.969\n",
      "Score тестовая выборка: 0.831\n"
     ]
    }
   ],
   "source": [
    "# Time убираем, пробуем убрать V3\n",
    "column = ['V4', 'V9', 'V12', 'V14', 'V16', 'V17', 'V21', 'V22', 'Amount']\n",
    "\n",
    "X = X_train_balance.loc[:, column]\n",
    "X_test = X_test_original.loc[:, column]\n",
    "\n",
    "model = LogisticRegression(solver='liblinear')\n",
    "model.fit(X, y_train_balance)\n",
    "\n",
    "print(\"Score обучающая выборка: {:.3f}\".format(model.score(X, y_train_balance)))\n",
    "print(\"Score тестовая выборка: {:.3f}\".format(model.score(X_test, y_test_original)))"
   ]
  },
  {
   "cell_type": "code",
   "execution_count": 30,
   "id": "901cd403",
   "metadata": {},
   "outputs": [
    {
     "name": "stdout",
     "output_type": "stream",
     "text": [
      "Score обучающая выборка: 0.962\n",
      "Score тестовая выборка: 0.832\n"
     ]
    }
   ],
   "source": [
    "# Time, V3 убираем, пробуем убрать V4\n",
    "column = ['V9', 'V12', 'V14', 'V16', 'V17', 'V21', 'V22', 'Amount']\n",
    "\n",
    "X = X_train_balance.loc[:, column]\n",
    "X_test = X_test_original.loc[:, column]\n",
    "\n",
    "model = LogisticRegression(solver='liblinear')\n",
    "model.fit(X, y_train_balance)\n",
    "\n",
    "print(\"Score обучающая выборка: {:.3f}\".format(model.score(X, y_train_balance)))\n",
    "print(\"Score тестовая выборка: {:.3f}\".format(model.score(X_test, y_test_original)))"
   ]
  },
  {
   "cell_type": "code",
   "execution_count": 31,
   "id": "401aa078",
   "metadata": {},
   "outputs": [
    {
     "name": "stdout",
     "output_type": "stream",
     "text": [
      "Score обучающая выборка: 0.968\n",
      "Score тестовая выборка: 0.831\n"
     ]
    }
   ],
   "source": [
    "# Time, V3 убираем, пробуем убрать V9\n",
    "column = ['V4', 'V12', 'V14', 'V16', 'V17', 'V21', 'V22', 'Amount']\n",
    "\n",
    "X = X_train_balance.loc[:, column]\n",
    "X_test = X_test_original.loc[:, column]\n",
    "\n",
    "model = LogisticRegression(solver='liblinear')\n",
    "model.fit(X, y_train_balance)\n",
    "\n",
    "print(\"Score обучающая выборка: {:.3f}\".format(model.score(X, y_train_balance)))\n",
    "print(\"Score тестовая выборка: {:.3f}\".format(model.score(X_test, y_test_original)))"
   ]
  },
  {
   "cell_type": "code",
   "execution_count": 32,
   "id": "c59dde54",
   "metadata": {},
   "outputs": [
    {
     "name": "stdout",
     "output_type": "stream",
     "text": [
      "Score обучающая выборка: 0.957\n",
      "Score тестовая выборка: 0.828\n"
     ]
    }
   ],
   "source": [
    "# Time, V3 убираем, пробуем убрать V12\n",
    "column = ['V4', 'V9', 'V14', 'V16', 'V17', 'V21', 'V22', 'Amount']\n",
    "\n",
    "X = X_train_balance.loc[:, column]\n",
    "X_test = X_test_original.loc[:, column]\n",
    "\n",
    "model = LogisticRegression(solver='liblinear')\n",
    "model.fit(X, y_train_balance)\n",
    "\n",
    "print(\"Score обучающая выборка: {:.3f}\".format(model.score(X, y_train_balance)))\n",
    "print(\"Score тестовая выборка: {:.3f}\".format(model.score(X_test, y_test_original)))"
   ]
  },
  {
   "cell_type": "code",
   "execution_count": 33,
   "id": "3f329ecf",
   "metadata": {},
   "outputs": [
    {
     "name": "stdout",
     "output_type": "stream",
     "text": [
      "Score обучающая выборка: 0.949\n",
      "Score тестовая выборка: 0.801\n"
     ]
    }
   ],
   "source": [
    "# Time, V3 убираем, пробуем убрать V14\n",
    "column = ['V4', 'V9', 'V12', 'V16', 'V17', 'V21', 'V22', 'Amount']\n",
    "\n",
    "X = X_train_balance.loc[:, column]\n",
    "X_test = X_test_original.loc[:, column]\n",
    "\n",
    "model = LogisticRegression(solver='liblinear')\n",
    "model.fit(X, y_train_balance)\n",
    "\n",
    "print(\"Score обучающая выборка: {:.3f}\".format(model.score(X, y_train_balance)))\n",
    "print(\"Score тестовая выборка: {:.3f}\".format(model.score(X_test, y_test_original)))"
   ]
  },
  {
   "cell_type": "code",
   "execution_count": 34,
   "id": "ae621fa9",
   "metadata": {},
   "outputs": [
    {
     "name": "stdout",
     "output_type": "stream",
     "text": [
      "Score обучающая выборка: 0.968\n",
      "Score тестовая выборка: 0.832\n"
     ]
    }
   ],
   "source": [
    "# Time, V3 убираем, пробуем убрать V16\n",
    "column = ['V4', 'V9', 'V12', 'V14', 'V17', 'V21', 'V22', 'Amount']\n",
    "\n",
    "X = X_train_balance.loc[:, column]\n",
    "X_test = X_test_original.loc[:, column]\n",
    "\n",
    "model = LogisticRegression(solver='liblinear')\n",
    "model.fit(X, y_train_balance)\n",
    "\n",
    "print(\"Score обучающая выборка: {:.3f}\".format(model.score(X, y_train_balance)))\n",
    "print(\"Score тестовая выборка: {:.3f}\".format(model.score(X_test, y_test_original)))"
   ]
  },
  {
   "cell_type": "code",
   "execution_count": 35,
   "id": "17b42c0d",
   "metadata": {},
   "outputs": [
    {
     "name": "stdout",
     "output_type": "stream",
     "text": [
      "Score обучающая выборка: 0.968\n",
      "Score тестовая выборка: 0.832\n"
     ]
    }
   ],
   "source": [
    "# Time, V3, V16 убираем, пробуем убрать V17\n",
    "column = ['V4', 'V9', 'V12', 'V14', 'V21', 'V22', 'Amount']\n",
    "\n",
    "X = X_train_balance.loc[:, column]\n",
    "X_test = X_test_original.loc[:, column]\n",
    "\n",
    "model = LogisticRegression(solver='liblinear')\n",
    "model.fit(X, y_train_balance)\n",
    "\n",
    "print(\"Score обучающая выборка: {:.3f}\".format(model.score(X, y_train_balance)))\n",
    "print(\"Score тестовая выборка: {:.3f}\".format(model.score(X_test, y_test_original)))"
   ]
  },
  {
   "cell_type": "code",
   "execution_count": 36,
   "id": "48dbf7b9",
   "metadata": {},
   "outputs": [
    {
     "name": "stdout",
     "output_type": "stream",
     "text": [
      "Score обучающая выборка: 0.964\n",
      "Score тестовая выборка: 0.832\n"
     ]
    }
   ],
   "source": [
    "# Time, V3, V16, V17 убираем, пробуем убрать V21\n",
    "column = ['V4', 'V9', 'V12', 'V14', 'V22', 'Amount']\n",
    "\n",
    "X = X_train_balance.loc[:, column]\n",
    "X_test = X_test_original.loc[:, column]\n",
    "\n",
    "model = LogisticRegression(solver='liblinear')\n",
    "model.fit(X, y_train_balance)\n",
    "\n",
    "print(\"Score обучающая выборка: {:.3f}\".format(model.score(X, y_train_balance)))\n",
    "print(\"Score тестовая выборка: {:.3f}\".format(model.score(X_test, y_test_original)))"
   ]
  },
  {
   "cell_type": "code",
   "execution_count": 37,
   "id": "dc24a225",
   "metadata": {},
   "outputs": [
    {
     "name": "stdout",
     "output_type": "stream",
     "text": [
      "Score обучающая выборка: 0.966\n",
      "Score тестовая выборка: 0.831\n"
     ]
    }
   ],
   "source": [
    "# Time, V3, V16, V17, V21 убираем, пробуем убрать V22\n",
    "column = ['V4', 'V9', 'V12', 'V14', 'Amount']\n",
    "\n",
    "X = X_train_balance.loc[:, column]\n",
    "X_test = X_test_original.loc[:, column]\n",
    "\n",
    "model = LogisticRegression(solver='liblinear')\n",
    "model.fit(X, y_train_balance)\n",
    "\n",
    "print(\"Score обучающая выборка: {:.3f}\".format(model.score(X, y_train_balance)))\n",
    "print(\"Score тестовая выборка: {:.3f}\".format(model.score(X_test, y_test_original)))"
   ]
  },
  {
   "cell_type": "code",
   "execution_count": 38,
   "id": "96c7c430",
   "metadata": {},
   "outputs": [
    {
     "name": "stdout",
     "output_type": "stream",
     "text": [
      "Score обучающая выборка: 0.934\n",
      "Score тестовая выборка: 0.966\n"
     ]
    }
   ],
   "source": [
    "# Time, V3, V16, V17, V21, V22 убираем, пробуем убрать Amount\n",
    "column = ['V4', 'V9', 'V12', 'V14', 'V22']\n",
    "\n",
    "X = X_train_balance.loc[:, column]\n",
    "X_test = X_test_original.loc[:, column]\n",
    "\n",
    "model = LogisticRegression(solver='liblinear')\n",
    "model.fit(X, y_train_balance)\n",
    "\n",
    "print(\"Score обучающая выборка: {:.3f}\".format(model.score(X, y_train_balance)))\n",
    "print(\"Score тестовая выборка: {:.3f}\".format(model.score(X_test, y_test_original)))"
   ]
  },
  {
   "cell_type": "markdown",
   "id": "fefa2794",
   "metadata": {},
   "source": [
    "Остановимся на этой модели, так как она дает максимальную точность на тестовых данных. Построим classification_report и матрицу ошибок"
   ]
  },
  {
   "cell_type": "code",
   "execution_count": 39,
   "id": "6f916dae",
   "metadata": {},
   "outputs": [
    {
     "name": "stdout",
     "output_type": "stream",
     "text": [
      "              precision    recall  f1-score   support\n",
      "\n",
      "           0       0.97      1.00      0.98     54614\n",
      "           1       0.88      0.04      0.08      1983\n",
      "\n",
      "    accuracy                           0.97     56597\n",
      "   macro avg       0.92      0.52      0.53     56597\n",
      "weighted avg       0.96      0.97      0.95     56597\n",
      "\n"
     ]
    }
   ],
   "source": [
    "y_pred = model.predict(X_test)\n",
    "print(metrics.classification_report(y_pred, y_test_original))"
   ]
  },
  {
   "cell_type": "code",
   "execution_count": 40,
   "id": "91807146",
   "metadata": {},
   "outputs": [
    {
     "data": {
      "text/html": [
       "<div>\n",
       "<style scoped>\n",
       "    .dataframe tbody tr th:only-of-type {\n",
       "        vertical-align: middle;\n",
       "    }\n",
       "\n",
       "    .dataframe tbody tr th {\n",
       "        vertical-align: top;\n",
       "    }\n",
       "\n",
       "    .dataframe thead th {\n",
       "        text-align: right;\n",
       "    }\n",
       "</style>\n",
       "<table border=\"1\" class=\"dataframe\">\n",
       "  <thead>\n",
       "    <tr style=\"text-align: right;\">\n",
       "      <th></th>\n",
       "      <th>0</th>\n",
       "      <th>1</th>\n",
       "    </tr>\n",
       "  </thead>\n",
       "  <tbody>\n",
       "    <tr>\n",
       "      <th>0</th>\n",
       "      <td>54603</td>\n",
       "      <td>1901</td>\n",
       "    </tr>\n",
       "    <tr>\n",
       "      <th>1</th>\n",
       "      <td>11</td>\n",
       "      <td>82</td>\n",
       "    </tr>\n",
       "  </tbody>\n",
       "</table>\n",
       "</div>"
      ],
      "text/plain": [
       "       0     1\n",
       "0  54603  1901\n",
       "1     11    82"
      ]
     },
     "execution_count": 40,
     "metadata": {},
     "output_type": "execute_result"
    }
   ],
   "source": [
    "conf_mat = metrics.confusion_matrix(y_test_original, y_pred)\n",
    "conf_mat = pd.DataFrame(conf_mat, index=model.classes_, columns=model.classes_)\n",
    "conf_mat"
   ]
  },
  {
   "cell_type": "markdown",
   "id": "0d3d8147",
   "metadata": {},
   "source": [
    "Не смотря на то, что удалось улучшить модель, все равно точность предсказаний слаба, Recall всего 0.08. Попробуем построить модель, используя другие методы"
   ]
  },
  {
   "cell_type": "code",
   "execution_count": null,
   "id": "082d7eac",
   "metadata": {},
   "outputs": [],
   "source": []
  },
  {
   "cell_type": "markdown",
   "id": "2d96ac12",
   "metadata": {},
   "source": [
    "## Случайный лес\n"
   ]
  },
  {
   "cell_type": "code",
   "execution_count": 41,
   "id": "c34dd162",
   "metadata": {},
   "outputs": [],
   "source": [
    "from sklearn.ensemble import RandomForestClassifier\n",
    "\n",
    "model_1 = RandomForestClassifier(random_state=42,\n",
    "                               #зерно случайных чисел\n",
    "                               # опции, относящиеся к отдельным деревьям такие же, как в tree.DecisionTreeClassifier\n",
    "                               # число деревьев в лесу\n",
    "                               n_estimators=30,\n",
    "                               # функция для impurity ('gini' или 'entropy') - как измеряем чистоту узла\n",
    "                               criterion='gini',\n",
    "                               # максимальное число слоев дерева\n",
    "                               max_depth=5,\n",
    "                               # Вычислять out-of-bag ошибку\n",
    "                               oob_score=True,\n",
    "                               # использовать результаты предыдущего вызова и нарастить предыдущий лес \n",
    "                               warm_start=False,\n",
    "                               # веса классов для балансировки обучения, для решения несбалансированности классов \n",
    "                               class_weight=None\n",
    "                                )"
   ]
  },
  {
   "cell_type": "markdown",
   "id": "be7470c5",
   "metadata": {},
   "source": [
    "Построим модель классификации, используя алгоритм случайного леса. Используем сбалансированные выборки"
   ]
  },
  {
   "cell_type": "code",
   "execution_count": 42,
   "id": "00a3035c",
   "metadata": {},
   "outputs": [
    {
     "name": "stdout",
     "output_type": "stream",
     "text": [
      "              precision    recall  f1-score   support\n",
      "\n",
      "           0       0.91      1.00      0.95     51627\n",
      "           1       0.86      0.02      0.03      4970\n",
      "\n",
      "    accuracy                           0.91     56597\n",
      "   macro avg       0.89      0.51      0.49     56597\n",
      "weighted avg       0.91      0.91      0.87     56597\n",
      "\n"
     ]
    }
   ],
   "source": [
    "model_1.fit(X_train_balance, y_train_balance)\n",
    "\n",
    "y_pred_1 = model_1.predict(X_test_original)\n",
    "print(metrics.classification_report(y_pred_1, y_test_original))\n",
    "\n"
   ]
  },
  {
   "cell_type": "code",
   "execution_count": 43,
   "id": "f4e56f9d",
   "metadata": {},
   "outputs": [
    {
     "data": {
      "text/html": [
       "<div>\n",
       "<style scoped>\n",
       "    .dataframe tbody tr th:only-of-type {\n",
       "        vertical-align: middle;\n",
       "    }\n",
       "\n",
       "    .dataframe tbody tr th {\n",
       "        vertical-align: top;\n",
       "    }\n",
       "\n",
       "    .dataframe thead th {\n",
       "        text-align: right;\n",
       "    }\n",
       "</style>\n",
       "<table border=\"1\" class=\"dataframe\">\n",
       "  <thead>\n",
       "    <tr style=\"text-align: right;\">\n",
       "      <th>Predicted</th>\n",
       "      <th>0</th>\n",
       "      <th>1</th>\n",
       "    </tr>\n",
       "    <tr>\n",
       "      <th>Actual</th>\n",
       "      <th></th>\n",
       "      <th></th>\n",
       "    </tr>\n",
       "  </thead>\n",
       "  <tbody>\n",
       "    <tr>\n",
       "      <th>0</th>\n",
       "      <td>51614</td>\n",
       "      <td>4890</td>\n",
       "    </tr>\n",
       "    <tr>\n",
       "      <th>1</th>\n",
       "      <td>13</td>\n",
       "      <td>80</td>\n",
       "    </tr>\n",
       "  </tbody>\n",
       "</table>\n",
       "</div>"
      ],
      "text/plain": [
       "Predicted      0     1\n",
       "Actual                \n",
       "0          51614  4890\n",
       "1             13    80"
      ]
     },
     "execution_count": 43,
     "metadata": {},
     "output_type": "execute_result"
    }
   ],
   "source": [
    "cm = pd.crosstab(y_test_original.values, y_pred_1, rownames=['Actual'], colnames=['Predicted'])\n",
    "cm"
   ]
  },
  {
   "cell_type": "markdown",
   "id": "385e3b24",
   "metadata": {},
   "source": [
    "Матрица ошибок показывает, что много ложных срабатываний. Recall мошеннических операций всего 0.02\n",
    "\n",
    "Построим модель 2, используем исходные несбалансированные классы"
   ]
  },
  {
   "cell_type": "code",
   "execution_count": 44,
   "id": "dd518038",
   "metadata": {},
   "outputs": [
    {
     "name": "stdout",
     "output_type": "stream",
     "text": [
      "              precision    recall  f1-score   support\n",
      "\n",
      "           0       1.00      1.00      1.00     56531\n",
      "           1       0.63      0.89      0.74        66\n",
      "\n",
      "    accuracy                           1.00     56597\n",
      "   macro avg       0.82      0.95      0.87     56597\n",
      "weighted avg       1.00      1.00      1.00     56597\n",
      "\n"
     ]
    }
   ],
   "source": [
    "model_1.fit(X_train_original, y_train_original)\n",
    "\n",
    "y_pred_2 = model_1.predict(X_test_original)\n",
    "print(metrics.classification_report(y_pred_2, y_test_original))"
   ]
  },
  {
   "cell_type": "code",
   "execution_count": 45,
   "id": "e02e2584",
   "metadata": {},
   "outputs": [
    {
     "data": {
      "text/html": [
       "<div>\n",
       "<style scoped>\n",
       "    .dataframe tbody tr th:only-of-type {\n",
       "        vertical-align: middle;\n",
       "    }\n",
       "\n",
       "    .dataframe tbody tr th {\n",
       "        vertical-align: top;\n",
       "    }\n",
       "\n",
       "    .dataframe thead th {\n",
       "        text-align: right;\n",
       "    }\n",
       "</style>\n",
       "<table border=\"1\" class=\"dataframe\">\n",
       "  <thead>\n",
       "    <tr style=\"text-align: right;\">\n",
       "      <th>Predicted</th>\n",
       "      <th>0</th>\n",
       "      <th>1</th>\n",
       "    </tr>\n",
       "    <tr>\n",
       "      <th>Actual</th>\n",
       "      <th></th>\n",
       "      <th></th>\n",
       "    </tr>\n",
       "  </thead>\n",
       "  <tbody>\n",
       "    <tr>\n",
       "      <th>0</th>\n",
       "      <td>56497</td>\n",
       "      <td>7</td>\n",
       "    </tr>\n",
       "    <tr>\n",
       "      <th>1</th>\n",
       "      <td>34</td>\n",
       "      <td>59</td>\n",
       "    </tr>\n",
       "  </tbody>\n",
       "</table>\n",
       "</div>"
      ],
      "text/plain": [
       "Predicted      0   1\n",
       "Actual              \n",
       "0          56497   7\n",
       "1             34  59"
      ]
     },
     "execution_count": 45,
     "metadata": {},
     "output_type": "execute_result"
    }
   ],
   "source": [
    "cm = pd.crosstab(y_test_original.values, y_pred_2, rownames=['Actual'], colnames=['Predicted'])\n",
    "cm"
   ]
  },
  {
   "cell_type": "markdown",
   "id": "c71a47b6",
   "metadata": {},
   "source": [
    "Число ложных срабатываний уменьшилось кратно, Precision снизился, но Recall увеличился в 40 раз\n",
    "\n",
    "Построим модель 3, в которой сбалансируем классы, используя встроенный метод class_weight"
   ]
  },
  {
   "cell_type": "code",
   "execution_count": 46,
   "id": "547d8368",
   "metadata": {},
   "outputs": [],
   "source": [
    "model_3 = RandomForestClassifier(random_state=42,\n",
    "                               n_estimators=30,\n",
    "                               criterion='gini',\n",
    "                               max_depth=5,\n",
    "                               oob_score=True,\n",
    "                               warm_start=False,\n",
    "                               class_weight='balanced'\n",
    "                               )"
   ]
  },
  {
   "cell_type": "code",
   "execution_count": 47,
   "id": "7ad89f63",
   "metadata": {},
   "outputs": [
    {
     "name": "stdout",
     "output_type": "stream",
     "text": [
      "              precision    recall  f1-score   support\n",
      "\n",
      "           0       1.00      1.00      1.00     56305\n",
      "           1       0.84      0.27      0.41       292\n",
      "\n",
      "    accuracy                           1.00     56597\n",
      "   macro avg       0.92      0.63      0.70     56597\n",
      "weighted avg       1.00      1.00      0.99     56597\n",
      "\n"
     ]
    }
   ],
   "source": [
    "model_3.fit(X_train_original, y_train_original)\n",
    "\n",
    "y_pred_3 = model_3.predict(X_test_original)\n",
    "print(metrics.classification_report(y_pred_3, y_test_original))"
   ]
  },
  {
   "cell_type": "code",
   "execution_count": 48,
   "id": "e513e57f",
   "metadata": {},
   "outputs": [
    {
     "data": {
      "text/html": [
       "<div>\n",
       "<style scoped>\n",
       "    .dataframe tbody tr th:only-of-type {\n",
       "        vertical-align: middle;\n",
       "    }\n",
       "\n",
       "    .dataframe tbody tr th {\n",
       "        vertical-align: top;\n",
       "    }\n",
       "\n",
       "    .dataframe thead th {\n",
       "        text-align: right;\n",
       "    }\n",
       "</style>\n",
       "<table border=\"1\" class=\"dataframe\">\n",
       "  <thead>\n",
       "    <tr style=\"text-align: right;\">\n",
       "      <th>Predicted</th>\n",
       "      <th>0</th>\n",
       "      <th>1</th>\n",
       "    </tr>\n",
       "    <tr>\n",
       "      <th>Actual</th>\n",
       "      <th></th>\n",
       "      <th></th>\n",
       "    </tr>\n",
       "  </thead>\n",
       "  <tbody>\n",
       "    <tr>\n",
       "      <th>0</th>\n",
       "      <td>56290</td>\n",
       "      <td>214</td>\n",
       "    </tr>\n",
       "    <tr>\n",
       "      <th>1</th>\n",
       "      <td>15</td>\n",
       "      <td>78</td>\n",
       "    </tr>\n",
       "  </tbody>\n",
       "</table>\n",
       "</div>"
      ],
      "text/plain": [
       "Predicted      0    1\n",
       "Actual               \n",
       "0          56290  214\n",
       "1             15   78"
      ]
     },
     "execution_count": 48,
     "metadata": {},
     "output_type": "execute_result"
    }
   ],
   "source": [
    "cm = pd.crosstab(y_test_original.values, y_pred_3, rownames=['Actual'], colnames=['Predicted'])\n",
    "cm"
   ]
  },
  {
   "cell_type": "markdown",
   "id": "e75abb25",
   "metadata": {},
   "source": [
    "В модели 3 Precision увеличился до 0.84 снизился, а Recall снизился до 0.27. По сравнению с моделью 2, увеличилось число ложных срабатываний (214), но снизилось количество пропущенных мошеннических операций (15).\n",
    "\n",
    "С какой моделью работать дальше, с моделью 2 или 3 зависит от требований банка. В каком случае он понесет меньшие потери: при большем количестве срабатываний или при большей точности этих срабатываний? Для этого должны быть заданы референтные параметры Precision и Recall.\n",
    "\n",
    "Медиана суммы мошеннической транзакции = 17 долларов, поэтому я считаю что банку будет выгоднее использовать модель с большей полнотой Recall (модель 2). \n",
    "\n",
    "Попробуем увеличить число деревьев n_estimators до 100.\n"
   ]
  },
  {
   "cell_type": "code",
   "execution_count": 49,
   "id": "0f8fd996",
   "metadata": {},
   "outputs": [
    {
     "name": "stdout",
     "output_type": "stream",
     "text": [
      "              precision    recall  f1-score   support\n",
      "\n",
      "           0       1.00      1.00      1.00     56533\n",
      "           1       0.61      0.89      0.73        64\n",
      "\n",
      "    accuracy                           1.00     56597\n",
      "   macro avg       0.81      0.94      0.86     56597\n",
      "weighted avg       1.00      1.00      1.00     56597\n",
      "\n"
     ]
    }
   ],
   "source": [
    "model_4 = RandomForestClassifier(random_state=42,\n",
    "                               n_estimators=100,\n",
    "                               criterion='gini',\n",
    "                               max_depth=5,\n",
    "                               oob_score=True,\n",
    "                               warm_start=False,\n",
    "                               class_weight=None\n",
    "                                )\n",
    "\n",
    "model_4.fit(X_train_original, y_train_original)\n",
    "\n",
    "y_pred_4 = model_4.predict(X_test_original)\n",
    "print(metrics.classification_report(y_pred_4, y_test_original))"
   ]
  },
  {
   "cell_type": "code",
   "execution_count": 50,
   "id": "de763991",
   "metadata": {},
   "outputs": [
    {
     "data": {
      "text/html": [
       "<div>\n",
       "<style scoped>\n",
       "    .dataframe tbody tr th:only-of-type {\n",
       "        vertical-align: middle;\n",
       "    }\n",
       "\n",
       "    .dataframe tbody tr th {\n",
       "        vertical-align: top;\n",
       "    }\n",
       "\n",
       "    .dataframe thead th {\n",
       "        text-align: right;\n",
       "    }\n",
       "</style>\n",
       "<table border=\"1\" class=\"dataframe\">\n",
       "  <thead>\n",
       "    <tr style=\"text-align: right;\">\n",
       "      <th>Predicted</th>\n",
       "      <th>0</th>\n",
       "      <th>1</th>\n",
       "    </tr>\n",
       "    <tr>\n",
       "      <th>Actual</th>\n",
       "      <th></th>\n",
       "      <th></th>\n",
       "    </tr>\n",
       "  </thead>\n",
       "  <tbody>\n",
       "    <tr>\n",
       "      <th>0</th>\n",
       "      <td>56497</td>\n",
       "      <td>7</td>\n",
       "    </tr>\n",
       "    <tr>\n",
       "      <th>1</th>\n",
       "      <td>36</td>\n",
       "      <td>57</td>\n",
       "    </tr>\n",
       "  </tbody>\n",
       "</table>\n",
       "</div>"
      ],
      "text/plain": [
       "Predicted      0   1\n",
       "Actual              \n",
       "0          56497   7\n",
       "1             36  57"
      ]
     },
     "execution_count": 50,
     "metadata": {},
     "output_type": "execute_result"
    }
   ],
   "source": [
    "cm = pd.crosstab(y_test_original.values, y_pred_4, rownames=['Actual'], colnames=['Predicted'])\n",
    "cm"
   ]
  },
  {
   "cell_type": "markdown",
   "id": "21eb492a",
   "metadata": {},
   "source": [
    "Precision ухудшился до 0.61. Оставим 30 деревьев и попробуем уменьшить максимальную глубину слоев дерева max_depth до 3"
   ]
  },
  {
   "cell_type": "code",
   "execution_count": 51,
   "id": "5666a01c",
   "metadata": {},
   "outputs": [
    {
     "data": {
      "text/html": [
       "<div>\n",
       "<style scoped>\n",
       "    .dataframe tbody tr th:only-of-type {\n",
       "        vertical-align: middle;\n",
       "    }\n",
       "\n",
       "    .dataframe tbody tr th {\n",
       "        vertical-align: top;\n",
       "    }\n",
       "\n",
       "    .dataframe thead th {\n",
       "        text-align: right;\n",
       "    }\n",
       "</style>\n",
       "<table border=\"1\" class=\"dataframe\">\n",
       "  <thead>\n",
       "    <tr style=\"text-align: right;\">\n",
       "      <th>Predicted</th>\n",
       "      <th>0</th>\n",
       "      <th>1</th>\n",
       "    </tr>\n",
       "    <tr>\n",
       "      <th>Actual</th>\n",
       "      <th></th>\n",
       "      <th></th>\n",
       "    </tr>\n",
       "  </thead>\n",
       "  <tbody>\n",
       "    <tr>\n",
       "      <th>0</th>\n",
       "      <td>56491</td>\n",
       "      <td>13</td>\n",
       "    </tr>\n",
       "    <tr>\n",
       "      <th>1</th>\n",
       "      <td>39</td>\n",
       "      <td>54</td>\n",
       "    </tr>\n",
       "  </tbody>\n",
       "</table>\n",
       "</div>"
      ],
      "text/plain": [
       "Predicted      0   1\n",
       "Actual              \n",
       "0          56491  13\n",
       "1             39  54"
      ]
     },
     "execution_count": 51,
     "metadata": {},
     "output_type": "execute_result"
    }
   ],
   "source": [
    "model_5 = RandomForestClassifier(random_state=42,\n",
    "                               n_estimators=30,\n",
    "                               criterion='gini',\n",
    "                               max_depth=3,\n",
    "                               oob_score=True,\n",
    "                               warm_start=False,\n",
    "                               class_weight=None\n",
    "                               )\n",
    "\n",
    "model_5.fit(X_train_original, y_train_original)\n",
    "\n",
    "y_pred_5 = model_5.predict(X_test_original)\n",
    "\n",
    "cm = pd.crosstab(y_test_original.values, y_pred_5, rownames=['Actual'], colnames=['Predicted'])\n",
    "cm"
   ]
  },
  {
   "cell_type": "code",
   "execution_count": 52,
   "id": "bf39536b",
   "metadata": {},
   "outputs": [
    {
     "name": "stdout",
     "output_type": "stream",
     "text": [
      "              precision    recall  f1-score   support\n",
      "\n",
      "           0       1.00      1.00      1.00     56530\n",
      "           1       0.58      0.81      0.68        67\n",
      "\n",
      "    accuracy                           1.00     56597\n",
      "   macro avg       0.79      0.90      0.84     56597\n",
      "weighted avg       1.00      1.00      1.00     56597\n",
      "\n"
     ]
    }
   ],
   "source": [
    "print(metrics.classification_report(y_pred_5, y_test_original))"
   ]
  },
  {
   "cell_type": "markdown",
   "id": "4fed621d",
   "metadata": {},
   "source": [
    "И Precision и Recall ухудшились. Попробуем увеличить максимальную глубину слоев дерева max_depth до 7"
   ]
  },
  {
   "cell_type": "code",
   "execution_count": 53,
   "id": "8b61c30b",
   "metadata": {},
   "outputs": [
    {
     "data": {
      "text/html": [
       "<div>\n",
       "<style scoped>\n",
       "    .dataframe tbody tr th:only-of-type {\n",
       "        vertical-align: middle;\n",
       "    }\n",
       "\n",
       "    .dataframe tbody tr th {\n",
       "        vertical-align: top;\n",
       "    }\n",
       "\n",
       "    .dataframe thead th {\n",
       "        text-align: right;\n",
       "    }\n",
       "</style>\n",
       "<table border=\"1\" class=\"dataframe\">\n",
       "  <thead>\n",
       "    <tr style=\"text-align: right;\">\n",
       "      <th>Predicted</th>\n",
       "      <th>0</th>\n",
       "      <th>1</th>\n",
       "    </tr>\n",
       "    <tr>\n",
       "      <th>Actual</th>\n",
       "      <th></th>\n",
       "      <th></th>\n",
       "    </tr>\n",
       "  </thead>\n",
       "  <tbody>\n",
       "    <tr>\n",
       "      <th>0</th>\n",
       "      <td>56497</td>\n",
       "      <td>7</td>\n",
       "    </tr>\n",
       "    <tr>\n",
       "      <th>1</th>\n",
       "      <td>30</td>\n",
       "      <td>63</td>\n",
       "    </tr>\n",
       "  </tbody>\n",
       "</table>\n",
       "</div>"
      ],
      "text/plain": [
       "Predicted      0   1\n",
       "Actual              \n",
       "0          56497   7\n",
       "1             30  63"
      ]
     },
     "execution_count": 53,
     "metadata": {},
     "output_type": "execute_result"
    }
   ],
   "source": [
    "model_6 = RandomForestClassifier(random_state=42,\n",
    "                               n_estimators=30,\n",
    "                               criterion='gini',\n",
    "                               max_depth=7,\n",
    "                               oob_score=True,\n",
    "                               warm_start=False,\n",
    "                               class_weight=None\n",
    "                                )\n",
    "\n",
    "model_6.fit(X_train_original, y_train_original)\n",
    "\n",
    "y_pred_6 = model_6.predict(X_test_original)\n",
    "\n",
    "cm = pd.crosstab(y_test_original.values, y_pred_6, rownames=['Actual'], colnames=['Predicted'])\n",
    "cm"
   ]
  },
  {
   "cell_type": "code",
   "execution_count": 54,
   "id": "b31018ba",
   "metadata": {},
   "outputs": [
    {
     "name": "stdout",
     "output_type": "stream",
     "text": [
      "              precision    recall  f1-score   support\n",
      "\n",
      "           0       1.00      1.00      1.00     56527\n",
      "           1       0.68      0.90      0.77        70\n",
      "\n",
      "    accuracy                           1.00     56597\n",
      "   macro avg       0.84      0.95      0.89     56597\n",
      "weighted avg       1.00      1.00      1.00     56597\n",
      "\n"
     ]
    }
   ],
   "source": [
    "print(metrics.classification_report(y_pred_6, y_test_original))"
   ]
  },
  {
   "cell_type": "markdown",
   "id": "454998ff",
   "metadata": {},
   "source": [
    "И Precision и Recall увеличились. Попробуем еще увеличить максимальную глубину слоев дерева max_depth до 13"
   ]
  },
  {
   "cell_type": "code",
   "execution_count": 55,
   "id": "f72d020e",
   "metadata": {},
   "outputs": [
    {
     "data": {
      "text/html": [
       "<div>\n",
       "<style scoped>\n",
       "    .dataframe tbody tr th:only-of-type {\n",
       "        vertical-align: middle;\n",
       "    }\n",
       "\n",
       "    .dataframe tbody tr th {\n",
       "        vertical-align: top;\n",
       "    }\n",
       "\n",
       "    .dataframe thead th {\n",
       "        text-align: right;\n",
       "    }\n",
       "</style>\n",
       "<table border=\"1\" class=\"dataframe\">\n",
       "  <thead>\n",
       "    <tr style=\"text-align: right;\">\n",
       "      <th>Predicted</th>\n",
       "      <th>0</th>\n",
       "      <th>1</th>\n",
       "    </tr>\n",
       "    <tr>\n",
       "      <th>Actual</th>\n",
       "      <th></th>\n",
       "      <th></th>\n",
       "    </tr>\n",
       "  </thead>\n",
       "  <tbody>\n",
       "    <tr>\n",
       "      <th>0</th>\n",
       "      <td>56501</td>\n",
       "      <td>3</td>\n",
       "    </tr>\n",
       "    <tr>\n",
       "      <th>1</th>\n",
       "      <td>26</td>\n",
       "      <td>67</td>\n",
       "    </tr>\n",
       "  </tbody>\n",
       "</table>\n",
       "</div>"
      ],
      "text/plain": [
       "Predicted      0   1\n",
       "Actual              \n",
       "0          56501   3\n",
       "1             26  67"
      ]
     },
     "execution_count": 55,
     "metadata": {},
     "output_type": "execute_result"
    }
   ],
   "source": [
    "model_7 = RandomForestClassifier(random_state=42,\n",
    "                               n_estimators=30,\n",
    "                               criterion='gini',\n",
    "                               max_depth=13,\n",
    "                               oob_score=True,\n",
    "                               warm_start=False,\n",
    "                               class_weight=None\n",
    "                               )\n",
    "\n",
    "model_7.fit(X_train_original, y_train_original)\n",
    "\n",
    "y_pred_7 = model_7.predict(X_test_original)\n",
    "\n",
    "cm_7 = pd.crosstab(y_test_original.values, y_pred_7, rownames=['Actual'], colnames=['Predicted'])\n",
    "cm_7"
   ]
  },
  {
   "cell_type": "code",
   "execution_count": 56,
   "id": "f095bb9b",
   "metadata": {},
   "outputs": [
    {
     "name": "stdout",
     "output_type": "stream",
     "text": [
      "              precision    recall  f1-score   support\n",
      "\n",
      "           0       1.00      1.00      1.00     56527\n",
      "           1       0.72      0.96      0.82        70\n",
      "\n",
      "    accuracy                           1.00     56597\n",
      "   macro avg       0.86      0.98      0.91     56597\n",
      "weighted avg       1.00      1.00      1.00     56597\n",
      "\n"
     ]
    }
   ],
   "source": [
    "print(metrics.classification_report(y_pred_7, y_test_original))"
   ]
  },
  {
   "cell_type": "markdown",
   "id": "8a8a1454",
   "metadata": {},
   "source": [
    "И Precision и Recall увеличились. Попробуем еще увеличить максимальную глубину слоев дерева max_depth до 15"
   ]
  },
  {
   "cell_type": "code",
   "execution_count": 57,
   "id": "58d1559b",
   "metadata": {},
   "outputs": [
    {
     "data": {
      "text/html": [
       "<div>\n",
       "<style scoped>\n",
       "    .dataframe tbody tr th:only-of-type {\n",
       "        vertical-align: middle;\n",
       "    }\n",
       "\n",
       "    .dataframe tbody tr th {\n",
       "        vertical-align: top;\n",
       "    }\n",
       "\n",
       "    .dataframe thead th {\n",
       "        text-align: right;\n",
       "    }\n",
       "</style>\n",
       "<table border=\"1\" class=\"dataframe\">\n",
       "  <thead>\n",
       "    <tr style=\"text-align: right;\">\n",
       "      <th>Predicted</th>\n",
       "      <th>0</th>\n",
       "      <th>1</th>\n",
       "    </tr>\n",
       "    <tr>\n",
       "      <th>Actual</th>\n",
       "      <th></th>\n",
       "      <th></th>\n",
       "    </tr>\n",
       "  </thead>\n",
       "  <tbody>\n",
       "    <tr>\n",
       "      <th>0</th>\n",
       "      <td>56501</td>\n",
       "      <td>3</td>\n",
       "    </tr>\n",
       "    <tr>\n",
       "      <th>1</th>\n",
       "      <td>26</td>\n",
       "      <td>67</td>\n",
       "    </tr>\n",
       "  </tbody>\n",
       "</table>\n",
       "</div>"
      ],
      "text/plain": [
       "Predicted      0   1\n",
       "Actual              \n",
       "0          56501   3\n",
       "1             26  67"
      ]
     },
     "execution_count": 57,
     "metadata": {},
     "output_type": "execute_result"
    }
   ],
   "source": [
    "model_8 = RandomForestClassifier(random_state=42,\n",
    "                               n_estimators=30,\n",
    "                               criterion='gini',\n",
    "                               max_depth=15,\n",
    "                               oob_score=True,\n",
    "                               warm_start=False,\n",
    "                               class_weight=None\n",
    "                               )\n",
    "\n",
    "model_8.fit(X_train_original, y_train_original)\n",
    "\n",
    "y_pred_8 = model_8.predict(X_test_original)\n",
    "\n",
    "cm = pd.crosstab(y_test_original.values, y_pred_8, rownames=['Actual'], colnames=['Predicted'])\n",
    "cm"
   ]
  },
  {
   "cell_type": "markdown",
   "id": "4ff4a46d",
   "metadata": {},
   "source": [
    "И Precision и Recall  остались прежними, попробуем уменьшить max_depth до 12"
   ]
  },
  {
   "cell_type": "code",
   "execution_count": 58,
   "id": "b0d720ae",
   "metadata": {},
   "outputs": [
    {
     "data": {
      "text/html": [
       "<div>\n",
       "<style scoped>\n",
       "    .dataframe tbody tr th:only-of-type {\n",
       "        vertical-align: middle;\n",
       "    }\n",
       "\n",
       "    .dataframe tbody tr th {\n",
       "        vertical-align: top;\n",
       "    }\n",
       "\n",
       "    .dataframe thead th {\n",
       "        text-align: right;\n",
       "    }\n",
       "</style>\n",
       "<table border=\"1\" class=\"dataframe\">\n",
       "  <thead>\n",
       "    <tr style=\"text-align: right;\">\n",
       "      <th>Predicted</th>\n",
       "      <th>0</th>\n",
       "      <th>1</th>\n",
       "    </tr>\n",
       "    <tr>\n",
       "      <th>Actual</th>\n",
       "      <th></th>\n",
       "      <th></th>\n",
       "    </tr>\n",
       "  </thead>\n",
       "  <tbody>\n",
       "    <tr>\n",
       "      <th>0</th>\n",
       "      <td>56500</td>\n",
       "      <td>4</td>\n",
       "    </tr>\n",
       "    <tr>\n",
       "      <th>1</th>\n",
       "      <td>28</td>\n",
       "      <td>65</td>\n",
       "    </tr>\n",
       "  </tbody>\n",
       "</table>\n",
       "</div>"
      ],
      "text/plain": [
       "Predicted      0   1\n",
       "Actual              \n",
       "0          56500   4\n",
       "1             28  65"
      ]
     },
     "execution_count": 58,
     "metadata": {},
     "output_type": "execute_result"
    }
   ],
   "source": [
    "model_9 = RandomForestClassifier(random_state=42,\n",
    "                               n_estimators=30,\n",
    "                               criterion='gini',\n",
    "                               max_depth=12,\n",
    "                               oob_score=True,\n",
    "                               warm_start=False,\n",
    "                               class_weight=None\n",
    "                               )\n",
    "\n",
    "model_9.fit(X_train_original, y_train_original)\n",
    "\n",
    "y_pred_9 = model_9.predict(X_test_original)\n",
    "\n",
    "cm = pd.crosstab(y_test_original.values, y_pred_9, rownames=['Actual'], colnames=['Predicted'])\n",
    "cm"
   ]
  },
  {
   "cell_type": "code",
   "execution_count": 59,
   "id": "786da4ee",
   "metadata": {},
   "outputs": [
    {
     "name": "stdout",
     "output_type": "stream",
     "text": [
      "              precision    recall  f1-score   support\n",
      "\n",
      "           0       1.00      1.00      1.00     56528\n",
      "           1       0.70      0.94      0.80        69\n",
      "\n",
      "    accuracy                           1.00     56597\n",
      "   macro avg       0.85      0.97      0.90     56597\n",
      "weighted avg       1.00      1.00      1.00     56597\n",
      "\n"
     ]
    }
   ],
   "source": [
    "print(metrics.classification_report(y_pred_9, y_test_original))"
   ]
  },
  {
   "cell_type": "markdown",
   "id": "3eab2201",
   "metadata": {},
   "source": [
    "Модель ухудшилась, оставим модель 7 (n_estimators=30, max_depth=13) Посмотрим на информативность предикторов"
   ]
  },
  {
   "cell_type": "code",
   "execution_count": 60,
   "id": "43283a88",
   "metadata": {},
   "outputs": [
    {
     "data": {
      "text/html": [
       "<div>\n",
       "<style scoped>\n",
       "    .dataframe tbody tr th:only-of-type {\n",
       "        vertical-align: middle;\n",
       "    }\n",
       "\n",
       "    .dataframe tbody tr th {\n",
       "        vertical-align: top;\n",
       "    }\n",
       "\n",
       "    .dataframe thead th {\n",
       "        text-align: right;\n",
       "    }\n",
       "</style>\n",
       "<table border=\"1\" class=\"dataframe\">\n",
       "  <thead>\n",
       "    <tr style=\"text-align: right;\">\n",
       "      <th></th>\n",
       "      <th>feature</th>\n",
       "      <th>importance</th>\n",
       "    </tr>\n",
       "  </thead>\n",
       "  <tbody>\n",
       "    <tr>\n",
       "      <th>17</th>\n",
       "      <td>V17</td>\n",
       "      <td>0.192985</td>\n",
       "    </tr>\n",
       "    <tr>\n",
       "      <th>14</th>\n",
       "      <td>V14</td>\n",
       "      <td>0.174732</td>\n",
       "    </tr>\n",
       "    <tr>\n",
       "      <th>12</th>\n",
       "      <td>V12</td>\n",
       "      <td>0.107167</td>\n",
       "    </tr>\n",
       "    <tr>\n",
       "      <th>10</th>\n",
       "      <td>V10</td>\n",
       "      <td>0.076838</td>\n",
       "    </tr>\n",
       "    <tr>\n",
       "      <th>16</th>\n",
       "      <td>V16</td>\n",
       "      <td>0.070396</td>\n",
       "    </tr>\n",
       "    <tr>\n",
       "      <th>7</th>\n",
       "      <td>V7</td>\n",
       "      <td>0.036345</td>\n",
       "    </tr>\n",
       "    <tr>\n",
       "      <th>9</th>\n",
       "      <td>V9</td>\n",
       "      <td>0.035852</td>\n",
       "    </tr>\n",
       "    <tr>\n",
       "      <th>11</th>\n",
       "      <td>V11</td>\n",
       "      <td>0.029440</td>\n",
       "    </tr>\n",
       "    <tr>\n",
       "      <th>3</th>\n",
       "      <td>V3</td>\n",
       "      <td>0.026890</td>\n",
       "    </tr>\n",
       "    <tr>\n",
       "      <th>4</th>\n",
       "      <td>V4</td>\n",
       "      <td>0.026549</td>\n",
       "    </tr>\n",
       "    <tr>\n",
       "      <th>21</th>\n",
       "      <td>V21</td>\n",
       "      <td>0.020133</td>\n",
       "    </tr>\n",
       "    <tr>\n",
       "      <th>20</th>\n",
       "      <td>V20</td>\n",
       "      <td>0.017556</td>\n",
       "    </tr>\n",
       "    <tr>\n",
       "      <th>5</th>\n",
       "      <td>V5</td>\n",
       "      <td>0.016821</td>\n",
       "    </tr>\n",
       "    <tr>\n",
       "      <th>18</th>\n",
       "      <td>V18</td>\n",
       "      <td>0.016523</td>\n",
       "    </tr>\n",
       "    <tr>\n",
       "      <th>26</th>\n",
       "      <td>V26</td>\n",
       "      <td>0.015863</td>\n",
       "    </tr>\n",
       "    <tr>\n",
       "      <th>2</th>\n",
       "      <td>V2</td>\n",
       "      <td>0.014517</td>\n",
       "    </tr>\n",
       "    <tr>\n",
       "      <th>29</th>\n",
       "      <td>Amount</td>\n",
       "      <td>0.013773</td>\n",
       "    </tr>\n",
       "    <tr>\n",
       "      <th>6</th>\n",
       "      <td>V6</td>\n",
       "      <td>0.012335</td>\n",
       "    </tr>\n",
       "    <tr>\n",
       "      <th>8</th>\n",
       "      <td>V8</td>\n",
       "      <td>0.012030</td>\n",
       "    </tr>\n",
       "    <tr>\n",
       "      <th>1</th>\n",
       "      <td>V1</td>\n",
       "      <td>0.011029</td>\n",
       "    </tr>\n",
       "    <tr>\n",
       "      <th>15</th>\n",
       "      <td>V15</td>\n",
       "      <td>0.009226</td>\n",
       "    </tr>\n",
       "    <tr>\n",
       "      <th>22</th>\n",
       "      <td>V22</td>\n",
       "      <td>0.008566</td>\n",
       "    </tr>\n",
       "    <tr>\n",
       "      <th>0</th>\n",
       "      <td>Time</td>\n",
       "      <td>0.008484</td>\n",
       "    </tr>\n",
       "    <tr>\n",
       "      <th>19</th>\n",
       "      <td>V19</td>\n",
       "      <td>0.008113</td>\n",
       "    </tr>\n",
       "    <tr>\n",
       "      <th>28</th>\n",
       "      <td>V28</td>\n",
       "      <td>0.007974</td>\n",
       "    </tr>\n",
       "    <tr>\n",
       "      <th>25</th>\n",
       "      <td>V25</td>\n",
       "      <td>0.007800</td>\n",
       "    </tr>\n",
       "    <tr>\n",
       "      <th>13</th>\n",
       "      <td>V13</td>\n",
       "      <td>0.006834</td>\n",
       "    </tr>\n",
       "    <tr>\n",
       "      <th>27</th>\n",
       "      <td>V27</td>\n",
       "      <td>0.005968</td>\n",
       "    </tr>\n",
       "    <tr>\n",
       "      <th>24</th>\n",
       "      <td>V24</td>\n",
       "      <td>0.005651</td>\n",
       "    </tr>\n",
       "    <tr>\n",
       "      <th>23</th>\n",
       "      <td>V23</td>\n",
       "      <td>0.003610</td>\n",
       "    </tr>\n",
       "  </tbody>\n",
       "</table>\n",
       "</div>"
      ],
      "text/plain": [
       "   feature  importance\n",
       "17     V17    0.192985\n",
       "14     V14    0.174732\n",
       "12     V12    0.107167\n",
       "10     V10    0.076838\n",
       "16     V16    0.070396\n",
       "7       V7    0.036345\n",
       "9       V9    0.035852\n",
       "11     V11    0.029440\n",
       "3       V3    0.026890\n",
       "4       V4    0.026549\n",
       "21     V21    0.020133\n",
       "20     V20    0.017556\n",
       "5       V5    0.016821\n",
       "18     V18    0.016523\n",
       "26     V26    0.015863\n",
       "2       V2    0.014517\n",
       "29  Amount    0.013773\n",
       "6       V6    0.012335\n",
       "8       V8    0.012030\n",
       "1       V1    0.011029\n",
       "15     V15    0.009226\n",
       "22     V22    0.008566\n",
       "0     Time    0.008484\n",
       "19     V19    0.008113\n",
       "28     V28    0.007974\n",
       "25     V25    0.007800\n",
       "13     V13    0.006834\n",
       "27     V27    0.005968\n",
       "24     V24    0.005651\n",
       "23     V23    0.003610"
      ]
     },
     "execution_count": 60,
     "metadata": {},
     "output_type": "execute_result"
    }
   ],
   "source": [
    "pd.DataFrame({'feature': X_train_original.columns,\n",
    "              'importance': model_7.feature_importances_}).sort_values('importance', ascending=False)"
   ]
  },
  {
   "cell_type": "markdown",
   "id": "d1b5a442",
   "metadata": {},
   "source": [
    "Удалим из модели 7 столбцы, информативность которых меньше 0.02"
   ]
  },
  {
   "cell_type": "code",
   "execution_count": 61,
   "id": "8d2478a9",
   "metadata": {},
   "outputs": [
    {
     "data": {
      "text/html": [
       "<div>\n",
       "<style scoped>\n",
       "    .dataframe tbody tr th:only-of-type {\n",
       "        vertical-align: middle;\n",
       "    }\n",
       "\n",
       "    .dataframe tbody tr th {\n",
       "        vertical-align: top;\n",
       "    }\n",
       "\n",
       "    .dataframe thead th {\n",
       "        text-align: right;\n",
       "    }\n",
       "</style>\n",
       "<table border=\"1\" class=\"dataframe\">\n",
       "  <thead>\n",
       "    <tr style=\"text-align: right;\">\n",
       "      <th>Predicted</th>\n",
       "      <th>0</th>\n",
       "      <th>1</th>\n",
       "    </tr>\n",
       "    <tr>\n",
       "      <th>Actual</th>\n",
       "      <th></th>\n",
       "      <th></th>\n",
       "    </tr>\n",
       "  </thead>\n",
       "  <tbody>\n",
       "    <tr>\n",
       "      <th>0</th>\n",
       "      <td>56498</td>\n",
       "      <td>6</td>\n",
       "    </tr>\n",
       "    <tr>\n",
       "      <th>1</th>\n",
       "      <td>24</td>\n",
       "      <td>69</td>\n",
       "    </tr>\n",
       "  </tbody>\n",
       "</table>\n",
       "</div>"
      ],
      "text/plain": [
       "Predicted      0   1\n",
       "Actual              \n",
       "0          56498   6\n",
       "1             24  69"
      ]
     },
     "execution_count": 61,
     "metadata": {},
     "output_type": "execute_result"
    }
   ],
   "source": [
    "column = ['V17', 'V14', 'V12', 'V10', 'V16', 'V7', 'V9', 'V11', 'V3', 'V4', 'V21']\n",
    "\n",
    "X = X_train_original.loc[:, column]\n",
    "X_test = X_test_original.loc[:, column]\n",
    "\n",
    "model_7.fit(X, y_train_original)\n",
    "\n",
    "y_pred = model_7.predict(X_test)\n",
    "\n",
    "cm = pd.crosstab(y_test_original.values, y_pred, rownames=['Actual'], colnames=['Predicted'])\n",
    "cm"
   ]
  },
  {
   "cell_type": "code",
   "execution_count": 62,
   "id": "88c222c1",
   "metadata": {},
   "outputs": [
    {
     "name": "stdout",
     "output_type": "stream",
     "text": [
      "              precision    recall  f1-score   support\n",
      "\n",
      "           0       1.00      1.00      1.00     56522\n",
      "           1       0.74      0.92      0.82        75\n",
      "\n",
      "    accuracy                           1.00     56597\n",
      "   macro avg       0.87      0.96      0.91     56597\n",
      "weighted avg       1.00      1.00      1.00     56597\n",
      "\n"
     ]
    }
   ],
   "source": [
    "print(metrics.classification_report(y_pred, y_test_original))"
   ]
  },
  {
   "cell_type": "markdown",
   "id": "0c1d71c0",
   "metadata": {},
   "source": [
    "Precision повысился с 0.72 до 0.74, Recall понизился с 0.96 до 0.92, увеличилось число ложных срабатываний, т.е. модель стала хуже. Добавим столбцы с информативностью выше 0.01"
   ]
  },
  {
   "cell_type": "code",
   "execution_count": 63,
   "id": "80034871",
   "metadata": {},
   "outputs": [
    {
     "data": {
      "text/html": [
       "<div>\n",
       "<style scoped>\n",
       "    .dataframe tbody tr th:only-of-type {\n",
       "        vertical-align: middle;\n",
       "    }\n",
       "\n",
       "    .dataframe tbody tr th {\n",
       "        vertical-align: top;\n",
       "    }\n",
       "\n",
       "    .dataframe thead th {\n",
       "        text-align: right;\n",
       "    }\n",
       "</style>\n",
       "<table border=\"1\" class=\"dataframe\">\n",
       "  <thead>\n",
       "    <tr style=\"text-align: right;\">\n",
       "      <th>Predicted</th>\n",
       "      <th>0</th>\n",
       "      <th>1</th>\n",
       "    </tr>\n",
       "    <tr>\n",
       "      <th>Actual</th>\n",
       "      <th></th>\n",
       "      <th></th>\n",
       "    </tr>\n",
       "  </thead>\n",
       "  <tbody>\n",
       "    <tr>\n",
       "      <th>0</th>\n",
       "      <td>56500</td>\n",
       "      <td>4</td>\n",
       "    </tr>\n",
       "    <tr>\n",
       "      <th>1</th>\n",
       "      <td>26</td>\n",
       "      <td>67</td>\n",
       "    </tr>\n",
       "  </tbody>\n",
       "</table>\n",
       "</div>"
      ],
      "text/plain": [
       "Predicted      0   1\n",
       "Actual              \n",
       "0          56500   4\n",
       "1             26  67"
      ]
     },
     "execution_count": 63,
     "metadata": {},
     "output_type": "execute_result"
    }
   ],
   "source": [
    "column = ['V17', 'V14', 'V12', 'V10', 'V16', 'V7', 'V9', 'V11', 'V3', 'V4', 'V21',\n",
    "         'V20', 'V5', 'V18', 'V26', 'V2', 'Amount', 'V6', 'V8', 'V1']\n",
    "\n",
    "X = X_train_original.loc[:, column]\n",
    "X_test = X_test_original.loc[:, column]\n",
    "\n",
    "model_7.fit(X, y_train_original)\n",
    "\n",
    "y_pred = model_7.predict(X_test)\n",
    "\n",
    "cm = pd.crosstab(y_test_original.values, y_pred, rownames=['Actual'], colnames=['Predicted'])\n",
    "cm"
   ]
  },
  {
   "cell_type": "code",
   "execution_count": 64,
   "id": "86c7f409",
   "metadata": {},
   "outputs": [
    {
     "name": "stdout",
     "output_type": "stream",
     "text": [
      "              precision    recall  f1-score   support\n",
      "\n",
      "           0       1.00      1.00      1.00     56526\n",
      "           1       0.72      0.94      0.82        71\n",
      "\n",
      "    accuracy                           1.00     56597\n",
      "   macro avg       0.86      0.97      0.91     56597\n",
      "weighted avg       1.00      1.00      1.00     56597\n",
      "\n"
     ]
    }
   ],
   "source": [
    "print(metrics.classification_report(y_pred, y_test_original))"
   ]
  },
  {
   "cell_type": "markdown",
   "id": "28581498",
   "metadata": {},
   "source": [
    "Precision возвратился к значению 0.72, Recall 0.94, число ложных срабатываний 4, т.е. по сравнению с предыдущим вариантом, модель стала лучше. Вернем еще 3 столбца"
   ]
  },
  {
   "cell_type": "code",
   "execution_count": 65,
   "id": "c729aa11",
   "metadata": {},
   "outputs": [
    {
     "data": {
      "text/html": [
       "<div>\n",
       "<style scoped>\n",
       "    .dataframe tbody tr th:only-of-type {\n",
       "        vertical-align: middle;\n",
       "    }\n",
       "\n",
       "    .dataframe tbody tr th {\n",
       "        vertical-align: top;\n",
       "    }\n",
       "\n",
       "    .dataframe thead th {\n",
       "        text-align: right;\n",
       "    }\n",
       "</style>\n",
       "<table border=\"1\" class=\"dataframe\">\n",
       "  <thead>\n",
       "    <tr style=\"text-align: right;\">\n",
       "      <th>Predicted</th>\n",
       "      <th>0</th>\n",
       "      <th>1</th>\n",
       "    </tr>\n",
       "    <tr>\n",
       "      <th>Actual</th>\n",
       "      <th></th>\n",
       "      <th></th>\n",
       "    </tr>\n",
       "  </thead>\n",
       "  <tbody>\n",
       "    <tr>\n",
       "      <th>0</th>\n",
       "      <td>56501</td>\n",
       "      <td>3</td>\n",
       "    </tr>\n",
       "    <tr>\n",
       "      <th>1</th>\n",
       "      <td>24</td>\n",
       "      <td>69</td>\n",
       "    </tr>\n",
       "  </tbody>\n",
       "</table>\n",
       "</div>"
      ],
      "text/plain": [
       "Predicted      0   1\n",
       "Actual              \n",
       "0          56501   3\n",
       "1             24  69"
      ]
     },
     "execution_count": 65,
     "metadata": {},
     "output_type": "execute_result"
    }
   ],
   "source": [
    "column = ['V17', 'V14', 'V12', 'V10', 'V16', 'V7', 'V9', 'V11', 'V3', 'V4', 'V21',\n",
    "         'V20', 'V5', 'V18', 'V26', 'V2', 'Amount', 'V6', 'V8', 'V1',\n",
    "         'V15', 'V22', 'Time']\n",
    "\n",
    "X = X_train_original.loc[:, column]\n",
    "X_test = X_test_original.loc[:, column]\n",
    "\n",
    "model_7.fit(X, y_train_original)\n",
    "\n",
    "y_pred = model_7.predict(X_test)\n",
    "\n",
    "cm = pd.crosstab(y_test_original.values, y_pred, rownames=['Actual'], colnames=['Predicted'])\n",
    "cm"
   ]
  },
  {
   "cell_type": "code",
   "execution_count": 66,
   "id": "ce4d5f2b",
   "metadata": {},
   "outputs": [
    {
     "name": "stdout",
     "output_type": "stream",
     "text": [
      "              precision    recall  f1-score   support\n",
      "\n",
      "           0       1.00      1.00      1.00     56525\n",
      "           1       0.74      0.96      0.84        72\n",
      "\n",
      "    accuracy                           1.00     56597\n",
      "   macro avg       0.87      0.98      0.92     56597\n",
      "weighted avg       1.00      1.00      1.00     56597\n",
      "\n"
     ]
    }
   ],
   "source": [
    "print(metrics.classification_report(y_pred, y_test_original))"
   ]
  },
  {
   "cell_type": "markdown",
   "id": "0b084c0f",
   "metadata": {},
   "source": [
    "По сравнению с моделью 7, precision увеличился с 0.72 до 0.74, recall остался прежним, f1-score увеличился с 0.82 до 0.84. Попробуем добавить следующий по информативности атрибут"
   ]
  },
  {
   "cell_type": "code",
   "execution_count": 68,
   "id": "18c364cd",
   "metadata": {},
   "outputs": [
    {
     "data": {
      "text/html": [
       "<div>\n",
       "<style scoped>\n",
       "    .dataframe tbody tr th:only-of-type {\n",
       "        vertical-align: middle;\n",
       "    }\n",
       "\n",
       "    .dataframe tbody tr th {\n",
       "        vertical-align: top;\n",
       "    }\n",
       "\n",
       "    .dataframe thead th {\n",
       "        text-align: right;\n",
       "    }\n",
       "</style>\n",
       "<table border=\"1\" class=\"dataframe\">\n",
       "  <thead>\n",
       "    <tr style=\"text-align: right;\">\n",
       "      <th>Predicted</th>\n",
       "      <th>0</th>\n",
       "      <th>1</th>\n",
       "    </tr>\n",
       "    <tr>\n",
       "      <th>Actual</th>\n",
       "      <th></th>\n",
       "      <th></th>\n",
       "    </tr>\n",
       "  </thead>\n",
       "  <tbody>\n",
       "    <tr>\n",
       "      <th>0</th>\n",
       "      <td>56501</td>\n",
       "      <td>3</td>\n",
       "    </tr>\n",
       "    <tr>\n",
       "      <th>1</th>\n",
       "      <td>25</td>\n",
       "      <td>68</td>\n",
       "    </tr>\n",
       "  </tbody>\n",
       "</table>\n",
       "</div>"
      ],
      "text/plain": [
       "Predicted      0   1\n",
       "Actual              \n",
       "0          56501   3\n",
       "1             25  68"
      ]
     },
     "execution_count": 68,
     "metadata": {},
     "output_type": "execute_result"
    }
   ],
   "source": [
    "column = ['V17', 'V14', 'V12', 'V10', 'V16', 'V7', 'V9', 'V11', 'V3', 'V4', 'V21',\n",
    "         'V20', 'V5', 'V18', 'V26', 'V2', 'Amount', 'V6', 'V8', 'V1',\n",
    "         'V15', 'V22', 'Time', 'V19']\n",
    "\n",
    "X = X_train_original.loc[:, column]\n",
    "X_test = X_test_original.loc[:, column]\n",
    "\n",
    "model_7.fit(X, y_train_original)\n",
    "\n",
    "y_pred = model_7.predict(X_test)\n",
    "\n",
    "cm = pd.crosstab(y_test_original.values, y_pred, rownames=['Actual'], colnames=['Predicted'])\n",
    "cm"
   ]
  },
  {
   "cell_type": "markdown",
   "id": "90b9c68b",
   "metadata": {},
   "source": [
    "По сравнению с предыдущей моделью, показатели ухудшились. Попробуем удалить Time и V19"
   ]
  },
  {
   "cell_type": "code",
   "execution_count": 69,
   "id": "b3ecb4df",
   "metadata": {},
   "outputs": [
    {
     "data": {
      "text/html": [
       "<div>\n",
       "<style scoped>\n",
       "    .dataframe tbody tr th:only-of-type {\n",
       "        vertical-align: middle;\n",
       "    }\n",
       "\n",
       "    .dataframe tbody tr th {\n",
       "        vertical-align: top;\n",
       "    }\n",
       "\n",
       "    .dataframe thead th {\n",
       "        text-align: right;\n",
       "    }\n",
       "</style>\n",
       "<table border=\"1\" class=\"dataframe\">\n",
       "  <thead>\n",
       "    <tr style=\"text-align: right;\">\n",
       "      <th>Predicted</th>\n",
       "      <th>0</th>\n",
       "      <th>1</th>\n",
       "    </tr>\n",
       "    <tr>\n",
       "      <th>Actual</th>\n",
       "      <th></th>\n",
       "      <th></th>\n",
       "    </tr>\n",
       "  </thead>\n",
       "  <tbody>\n",
       "    <tr>\n",
       "      <th>0</th>\n",
       "      <td>56499</td>\n",
       "      <td>5</td>\n",
       "    </tr>\n",
       "    <tr>\n",
       "      <th>1</th>\n",
       "      <td>26</td>\n",
       "      <td>67</td>\n",
       "    </tr>\n",
       "  </tbody>\n",
       "</table>\n",
       "</div>"
      ],
      "text/plain": [
       "Predicted      0   1\n",
       "Actual              \n",
       "0          56499   5\n",
       "1             26  67"
      ]
     },
     "execution_count": 69,
     "metadata": {},
     "output_type": "execute_result"
    }
   ],
   "source": [
    "column = ['V17', 'V14', 'V12', 'V10', 'V16', 'V7', 'V9', 'V11', 'V3', 'V4', 'V21',\n",
    "         'V20', 'V5', 'V18', 'V26', 'V2', 'Amount', 'V6', 'V8', 'V1',\n",
    "         'V15', 'V22']\n",
    "\n",
    "X = X_train_original.loc[:, column]\n",
    "X_test = X_test_original.loc[:, column]\n",
    "\n",
    "model_7.fit(X, y_train_original)\n",
    "\n",
    "y_pred = model_7.predict(X_test)\n",
    "\n",
    "cm = pd.crosstab(y_test_original.values, y_pred, rownames=['Actual'], colnames=['Predicted'])\n",
    "cm"
   ]
  },
  {
   "cell_type": "markdown",
   "id": "d40a6bb0",
   "metadata": {},
   "source": [
    "Модель вновь ухудшилась, следовательно, можно остановиться на следующих параметрах:\n",
    "\n",
    "**n_estimators=30, max_depth=13**\n",
    "\n",
    "**column = ['V17', 'V14', 'V12', 'V10', 'V16', 'V7', 'V9', 'V11', 'V3', 'V4', 'V21',\n",
    "         'V20', 'V5', 'V18', 'V26', 'V2', 'Amount', 'V6', 'V8', 'V1',\n",
    "         'V15', 'V22', 'Time']**\n",
    "         \n",
    "Построим вновь итоговую модель:"
   ]
  },
  {
   "cell_type": "code",
   "execution_count": 70,
   "id": "c9c9f3da",
   "metadata": {},
   "outputs": [
    {
     "data": {
      "text/html": [
       "<div>\n",
       "<style scoped>\n",
       "    .dataframe tbody tr th:only-of-type {\n",
       "        vertical-align: middle;\n",
       "    }\n",
       "\n",
       "    .dataframe tbody tr th {\n",
       "        vertical-align: top;\n",
       "    }\n",
       "\n",
       "    .dataframe thead th {\n",
       "        text-align: right;\n",
       "    }\n",
       "</style>\n",
       "<table border=\"1\" class=\"dataframe\">\n",
       "  <thead>\n",
       "    <tr style=\"text-align: right;\">\n",
       "      <th>Predicted</th>\n",
       "      <th>0</th>\n",
       "      <th>1</th>\n",
       "    </tr>\n",
       "    <tr>\n",
       "      <th>Actual</th>\n",
       "      <th></th>\n",
       "      <th></th>\n",
       "    </tr>\n",
       "  </thead>\n",
       "  <tbody>\n",
       "    <tr>\n",
       "      <th>0</th>\n",
       "      <td>56501</td>\n",
       "      <td>3</td>\n",
       "    </tr>\n",
       "    <tr>\n",
       "      <th>1</th>\n",
       "      <td>24</td>\n",
       "      <td>69</td>\n",
       "    </tr>\n",
       "  </tbody>\n",
       "</table>\n",
       "</div>"
      ],
      "text/plain": [
       "Predicted      0   1\n",
       "Actual              \n",
       "0          56501   3\n",
       "1             24  69"
      ]
     },
     "execution_count": 70,
     "metadata": {},
     "output_type": "execute_result"
    }
   ],
   "source": [
    "model_7 = RandomForestClassifier(random_state=42,\n",
    "                               n_estimators=30,\n",
    "                               criterion='gini',\n",
    "                               max_depth=13,\n",
    "                               oob_score=True,\n",
    "                               warm_start=False,\n",
    "                               class_weight=None\n",
    "                               )\n",
    "\n",
    "column = ['V17', 'V14', 'V12', 'V10', 'V16', 'V7', 'V9', 'V11', 'V3', 'V4', 'V21',\n",
    "         'V20', 'V5', 'V18', 'V26', 'V2', 'Amount', 'V6', 'V8', 'V1',\n",
    "         'V15', 'V22', 'Time']\n",
    "\n",
    "X = X_train_original.loc[:, column]\n",
    "X_test = X_test_original.loc[:, column]\n",
    "\n",
    "model_7.fit(X, y_train_original)\n",
    "\n",
    "y_pred = model_7.predict(X_test)\n",
    "\n",
    "cm = pd.crosstab(y_test_original.values, y_pred, rownames=['Actual'], colnames=['Predicted'])\n",
    "cm"
   ]
  },
  {
   "cell_type": "code",
   "execution_count": 71,
   "id": "a63c104b",
   "metadata": {
    "scrolled": true
   },
   "outputs": [
    {
     "name": "stdout",
     "output_type": "stream",
     "text": [
      "              precision    recall  f1-score   support\n",
      "\n",
      "           0       1.00      1.00      1.00     56525\n",
      "           1       0.74      0.96      0.84        72\n",
      "\n",
      "    accuracy                           1.00     56597\n",
      "   macro avg       0.87      0.98      0.92     56597\n",
      "weighted avg       1.00      1.00      1.00     56597\n",
      "\n"
     ]
    }
   ],
   "source": [
    "print(metrics.classification_report(y_pred, y_test_original))"
   ]
  },
  {
   "cell_type": "code",
   "execution_count": null,
   "id": "6f132f9e",
   "metadata": {},
   "outputs": [],
   "source": []
  }
 ],
 "metadata": {
  "kernelspec": {
   "display_name": "Python 3 (ipykernel)",
   "language": "python",
   "name": "python3"
  },
  "language_info": {
   "codemirror_mode": {
    "name": "ipython",
    "version": 3
   },
   "file_extension": ".py",
   "mimetype": "text/x-python",
   "name": "python",
   "nbconvert_exporter": "python",
   "pygments_lexer": "ipython3",
   "version": "3.9.12"
  }
 },
 "nbformat": 4,
 "nbformat_minor": 5
}
